{
  "nbformat": 4,
  "nbformat_minor": 0,
  "metadata": {
    "colab": {
      "provenance": [],
      "authorship_tag": "ABX9TyM0Yz+ROyy88gDWlXe0VMfp",
      "include_colab_link": true
    },
    "kernelspec": {
      "name": "python3",
      "display_name": "Python 3"
    },
    "language_info": {
      "name": "python"
    }
  },
  "cells": [
    {
      "cell_type": "markdown",
      "metadata": {
        "id": "view-in-github",
        "colab_type": "text"
      },
      "source": [
        "<a href=\"https://colab.research.google.com/github/EstherAbayomi07/S_tar/blob/main1/SECTION_30_data_mining_with_python_and_numpy(build_a_video_recommender_system).ipynb\" target=\"_parent\"><img src=\"https://colab.research.google.com/assets/colab-badge.svg\" alt=\"Open In Colab\"/></a>"
      ]
    },
    {
      "cell_type": "code",
      "execution_count": null,
      "metadata": {
        "id": "dy6DOMDwsuMj"
      },
      "outputs": [],
      "source": []
    },
    {
      "cell_type": "code",
      "source": [
        "#SECTION30 "
      ],
      "metadata": {
        "id": "aT0D3FEnx7b_"
      },
      "execution_count": 1,
      "outputs": []
    },
    {
      "cell_type": "code",
      "source": [
        "import numpy"
      ],
      "metadata": {
        "id": "Y8o-NuQPx7Zk"
      },
      "execution_count": 2,
      "outputs": []
    },
    {
      "cell_type": "code",
      "source": [
        "X = numpy.zeros((100, 5),\n",
        "                dtype =\"bool\")\n",
        "\n",
        "features = [\"Investing101\",\n",
        "            \"FunnyCatVideos\",\n",
        "            \"BuraTech\",\n",
        "            \"MammothInteracticve\",\n",
        "            \"VideoGameReviewer\"]\n",
        "\n",
        "INVESTING101_INDEX   = 0\n",
        "FUNNYCATVIDEOS_INDEX = 1\n",
        "BURATECH_INDEX       = 2\n",
        "MAMMOTHINTERACTIVE_INDEX = 3\n",
        "VIDEOGAMEREVIEWER_INDEX = 4\n",
        "\n",
        "VIEWERS_COUNT = X.shape[0]\n",
        "\n",
        "LIKED_VIDEO = 1\n",
        "\n",
        "for viewer in range(VIEWERS_COUNT):\n",
        "\n",
        "  if numpy.random.random() < 0.3:\n",
        "\n",
        "    X[viewer][INVESTING101_INDEX] = LIKED_VIDEO\n",
        "\n",
        "    if numpy.random.random() < 0.5:\n",
        "\n",
        "      X[viewer][FUNNYCATVIDEOS_INDEX] = LIKED_VIDEO\n",
        "\n",
        "      if numpy.random.random() < 0.2:\n",
        "\n",
        "        X[viewer][BURATECH_INDEX] = LIKED_VIDEO\n",
        "\n",
        "      if numpy.random.random() < 0.3:\n",
        "\n",
        "        X[viewer][MAMMOTHINTERACTIVE_INDEX] = LIKED_VIDEO\n",
        "\n",
        "      if numpy.random.random() < 0.4:\n",
        "\n",
        "        X[viewer][VIDEOGAMEREVIEWER_INDEX] = LIKED_VIDEO\n",
        "  \n",
        "  else: \n",
        "\n",
        "      if numpy.random.random() < 0.5:\n",
        "\n",
        "        X[viewer][FUNNYCATVIDEOS_INDEX] = LIKED_VIDEO\n",
        "\n",
        "      if numpy.random.random() < 0.3:\n",
        "\n",
        "        X[viewer][BURATECH_INDEX] = LIKED_VIDEO\n",
        "\n",
        "      if numpy.random.random() < 0.2:\n",
        "\n",
        "        X[viewer][MAMMOTHINTERACTIVE_INDEX] = LIKED_VIDEO\n",
        "\n",
        "      if numpy.random.random() < 0.4:\n",
        "\n",
        "        X[viewer][VIDEOGAMEREVIEWER_INDEX] = LIKED_VIDEO\n",
        "\n",
        "      else:\n",
        "\n",
        "        if numpy.random.random() < 0.7:\n",
        "\n",
        "         X[viewer][BURATECH_INDEX] = LIKED_VIDEO\n",
        "\n",
        "        if numpy.random.random() < 0.55:\n",
        "\n",
        "         X[viewer][MAMMOTHINTERACTIVE_INDEX] = LIKED_VIDEO\n",
        "\n",
        "        if numpy.random.random() < 0.8:\n",
        "\n",
        "         X[viewer][VIDEOGAMEREVIEWER_INDEX] = LIKED_VIDEO  \n",
        "\n",
        "  if X[viewer].sum() == 0:\n",
        "\n",
        "    X[viewer][VIDEOGAMEREVIEWER_INDEX] = LIKED_VIDEO\n",
        "\n",
        "numpy.savetxt(\"viewer_profiles.txt\",\n",
        "              X,\n",
        "              fmt=\"%d\") \n",
        "\n",
        "from google.colab import files\n",
        "\n",
        "files.download(\"viewer_profiles.txt\")"
      ],
      "metadata": {
        "id": "9_YBqViSx7XZ",
        "colab": {
          "base_uri": "https://localhost:8080/",
          "height": 17
        },
        "outputId": "aa93c0b5-a957-4de6-c9f5-3dd8708ccb50"
      },
      "execution_count": 9,
      "outputs": [
        {
          "output_type": "display_data",
          "data": {
            "text/plain": [
              "<IPython.core.display.Javascript object>"
            ],
            "application/javascript": [
              "\n",
              "    async function download(id, filename, size) {\n",
              "      if (!google.colab.kernel.accessAllowed) {\n",
              "        return;\n",
              "      }\n",
              "      const div = document.createElement('div');\n",
              "      const label = document.createElement('label');\n",
              "      label.textContent = `Downloading \"${filename}\": `;\n",
              "      div.appendChild(label);\n",
              "      const progress = document.createElement('progress');\n",
              "      progress.max = size;\n",
              "      div.appendChild(progress);\n",
              "      document.body.appendChild(div);\n",
              "\n",
              "      const buffers = [];\n",
              "      let downloaded = 0;\n",
              "\n",
              "      const channel = await google.colab.kernel.comms.open(id);\n",
              "      // Send a message to notify the kernel that we're ready.\n",
              "      channel.send({})\n",
              "\n",
              "      for await (const message of channel.messages) {\n",
              "        // Send a message to notify the kernel that we're ready.\n",
              "        channel.send({})\n",
              "        if (message.buffers) {\n",
              "          for (const buffer of message.buffers) {\n",
              "            buffers.push(buffer);\n",
              "            downloaded += buffer.byteLength;\n",
              "            progress.value = downloaded;\n",
              "          }\n",
              "        }\n",
              "      }\n",
              "      const blob = new Blob(buffers, {type: 'application/binary'});\n",
              "      const a = document.createElement('a');\n",
              "      a.href = window.URL.createObjectURL(blob);\n",
              "      a.download = filename;\n",
              "      div.appendChild(a);\n",
              "      a.click();\n",
              "      div.remove();\n",
              "    }\n",
              "  "
            ]
          },
          "metadata": {}
        },
        {
          "output_type": "display_data",
          "data": {
            "text/plain": [
              "<IPython.core.display.Javascript object>"
            ],
            "application/javascript": [
              "download(\"download_01372b87-873d-4ed1-8473-f7096e2da914\", \"viewer_profiles.txt\", 1000)"
            ]
          },
          "metadata": {}
        }
      ]
    },
    {
      "cell_type": "code",
      "source": [
        "X = numpy.loadtxt(\"viewer_profiles.txt\")\n",
        "\n",
        "print(X.shape)"
      ],
      "metadata": {
        "id": "sF_a_3PZFgBP",
        "colab": {
          "base_uri": "https://localhost:8080/"
        },
        "outputId": "8e94d395-54a1-46c3-85d6-694f59771382"
      },
      "execution_count": 10,
      "outputs": [
        {
          "output_type": "stream",
          "name": "stdout",
          "text": [
            "(100, 5)\n"
          ]
        }
      ]
    },
    {
      "cell_type": "code",
      "source": [
        "print(X[:5])"
      ],
      "metadata": {
        "id": "bkFVD8nzFf-I",
        "colab": {
          "base_uri": "https://localhost:8080/"
        },
        "outputId": "c5d70b6a-9bcd-46c0-fd87-57a9bb12b829"
      },
      "execution_count": 11,
      "outputs": [
        {
          "output_type": "stream",
          "name": "stdout",
          "text": [
            "[[1. 1. 0. 1. 1.]\n",
            " [1. 0. 0. 0. 0.]\n",
            " [0. 0. 0. 0. 1.]\n",
            " [0. 0. 1. 1. 0.]\n",
            " [1. 1. 0. 0. 0.]]\n"
          ]
        }
      ]
    },
    {
      "cell_type": "code",
      "source": [
        "number_of_MammothInteractive_likes = 0\n",
        "\n",
        "for viewer in X:\n",
        "\n",
        "  if viewer[MAMMOTHINTERACTIVE_INDEX] == 1:\n",
        "\n",
        "    number_of_MammothInteractive_likes += 1\n",
        "\n",
        "print(number_of_MammothInteractive_likes)"
      ],
      "metadata": {
        "colab": {
          "base_uri": "https://localhost:8080/"
        },
        "id": "F9MptQCiixk5",
        "outputId": "9c6ac818-521a-4322-aa6e-742ae81626e9"
      },
      "execution_count": 14,
      "outputs": [
        {
          "output_type": "stream",
          "name": "stdout",
          "text": [
            "40\n"
          ]
        }
      ]
    },
    {
      "cell_type": "code",
      "source": [
        "rule_valid = 0\n",
        "\n",
        "rule_invalid = 0\n",
        "\n",
        "\n",
        "for viewer in X:\n",
        "\n",
        "  if viewer[MAMMOTHINTERACTIVE_INDEX] == 1:\n",
        "\n",
        "    if viewer[VIDEOGAMEREVIEWER_INDEX] == 1:\n",
        "\n",
        "      rule_valid  += 1\n",
        "    \n",
        "    else:\n",
        "\n",
        "      rule_invalid += 1\n",
        "\n",
        "print(\"Rule: If a viewer liked Mammoth Interactive, they will like VideoGameReviewer\")\n",
        "print(\"{0} times the rule was valid\".format(rule_valid))\n",
        "print(\"{0} times the rule was invalid\".format(rule_invalid))\n",
        "\n"
      ],
      "metadata": {
        "id": "B-zqiI2zFf6o",
        "colab": {
          "base_uri": "https://localhost:8080/"
        },
        "outputId": "994d69b4-3529-405a-c34b-0467e0260431"
      },
      "execution_count": 15,
      "outputs": [
        {
          "output_type": "stream",
          "name": "stdout",
          "text": [
            "Rule: If a viewer liked Mammoth Interactive, they will like VideoGameReviewer\n",
            "33 times the rule was valid\n",
            "7 times the rule was invalid\n"
          ]
        }
      ]
    },
    {
      "cell_type": "code",
      "source": [
        "support = rule_valid \n",
        "\n",
        "confidence = rule_valid / number_of_MammothInteractive_likes\n",
        "\n",
        "print(\"Support:  {0}\".format(support))\n",
        "\n",
        "print(\"Confidence: {0}\".format(confidence))"
      ],
      "metadata": {
        "id": "CF3AL7WLFf3a",
        "colab": {
          "base_uri": "https://localhost:8080/"
        },
        "outputId": "87ca6d2b-d1b1-4ef8-faf5-2c2d6c74123e"
      },
      "execution_count": 16,
      "outputs": [
        {
          "output_type": "stream",
          "name": "stdout",
          "text": [
            "Support:  33\n",
            "Confidence: 0.825\n"
          ]
        }
      ]
    },
    {
      "cell_type": "code",
      "source": [
        "print(\"Confidence: {0:.1f}%\".format(100 * confidence))"
      ],
      "metadata": {
        "id": "YNDnSmLTFfzv",
        "colab": {
          "base_uri": "https://localhost:8080/"
        },
        "outputId": "c3d7ef9e-f111-433f-d84e-82709330449e"
      },
      "execution_count": 17,
      "outputs": [
        {
          "output_type": "stream",
          "name": "stdout",
          "text": [
            "Confidence: 82.5%\n"
          ]
        }
      ]
    },
    {
      "cell_type": "code",
      "source": [
        "number_of_samples, number_of_features = X.shape\n",
        "\n",
        "from collections import defaultdict\n",
        "\n",
        "number_of_occurences = defaultdict(int)\n",
        "\n",
        "times_rule_valid = defaultdict(int)\n",
        "\n",
        "times_rule_invalid = defaultdict(int)\n",
        "\n",
        "for viewer in X:\n",
        "\n",
        "  for premise in range(number_of_features):\n",
        "\n",
        "    if viewer[premise] == 0: continue\n",
        "\n",
        "    number_of_occurences[premise] += 1\n",
        "\n",
        "    for conclusion in range(number_of_features):\n",
        "\n",
        "      if premise ==conclusion:\n",
        "\n",
        "        continue\n",
        "\n",
        "      if viewer[conclusion] == 1:\n",
        "\n",
        "        times_rule_valid[(premise, conclusion)] += 1\n",
        "\n",
        "      else:\n",
        "\n",
        "        times_rule_invalid[(premise, conclusion)] += 1\n",
        "\n",
        "support = times_rule_valid\n",
        "\n",
        "confidence = defaultdict(float)\n",
        "\n",
        "for premise, conclusion in times_rule_valid.keys():\n",
        "\n",
        "  confidence[(premise, conclusion)] = times_rule_valid[(premise, conclusion)] / number_of_occurences[premise]\n",
        "\n",
        "for premise, conclusion in confidence:\n",
        "\n",
        "  first_channel = features[premise]\n",
        "\n",
        "  second_channel = features[conclusion]\n",
        "\n",
        "  print(\"Rule: If a viewer {0}, they will also like {1}\".format(first_channel,\n",
        "                                                                second_channel))\n",
        "  \n",
        "  print(\"Confidence: {0:.1f}%\".format( 100 * confidence[(premise, conclusion)]))\n",
        "\n",
        "  print(\"Support: {0}\".format(support[(premise, conclusion)]))\n",
        "\n",
        "  print(\" \")\n",
        "\n"
      ],
      "metadata": {
        "id": "Hl9opsVFFfxI",
        "colab": {
          "base_uri": "https://localhost:8080/"
        },
        "outputId": "094bd469-6fa9-4159-f1e0-f025bd92acb2"
      },
      "execution_count": 21,
      "outputs": [
        {
          "output_type": "stream",
          "name": "stdout",
          "text": [
            "Rule: If a viewer Investing101, they will also like FunnyCatVideos\n",
            "Confidence: 40.6%\n",
            "Support: 13\n",
            " \n",
            "Rule: If a viewer Investing101, they will also like MammothInteracticve\n",
            "Confidence: 9.4%\n",
            "Support: 3\n",
            " \n",
            "Rule: If a viewer Investing101, they will also like VideoGameReviewer\n",
            "Confidence: 15.6%\n",
            "Support: 5\n",
            " \n",
            "Rule: If a viewer FunnyCatVideos, they will also like Investing101\n",
            "Confidence: 28.3%\n",
            "Support: 13\n",
            " \n",
            "Rule: If a viewer FunnyCatVideos, they will also like MammothInteracticve\n",
            "Confidence: 45.7%\n",
            "Support: 21\n",
            " \n",
            "Rule: If a viewer FunnyCatVideos, they will also like VideoGameReviewer\n",
            "Confidence: 78.3%\n",
            "Support: 36\n",
            " \n",
            "Rule: If a viewer MammothInteracticve, they will also like Investing101\n",
            "Confidence: 7.5%\n",
            "Support: 3\n",
            " \n",
            "Rule: If a viewer MammothInteracticve, they will also like FunnyCatVideos\n",
            "Confidence: 52.5%\n",
            "Support: 21\n",
            " \n",
            "Rule: If a viewer MammothInteracticve, they will also like VideoGameReviewer\n",
            "Confidence: 82.5%\n",
            "Support: 33\n",
            " \n",
            "Rule: If a viewer VideoGameReviewer, they will also like Investing101\n",
            "Confidence: 7.5%\n",
            "Support: 5\n",
            " \n",
            "Rule: If a viewer VideoGameReviewer, they will also like FunnyCatVideos\n",
            "Confidence: 53.7%\n",
            "Support: 36\n",
            " \n",
            "Rule: If a viewer VideoGameReviewer, they will also like MammothInteracticve\n",
            "Confidence: 49.3%\n",
            "Support: 33\n",
            " \n",
            "Rule: If a viewer BuraTech, they will also like MammothInteracticve\n",
            "Confidence: 60.0%\n",
            "Support: 24\n",
            " \n",
            "Rule: If a viewer MammothInteracticve, they will also like BuraTech\n",
            "Confidence: 60.0%\n",
            "Support: 24\n",
            " \n",
            "Rule: If a viewer Investing101, they will also like BuraTech\n",
            "Confidence: 3.1%\n",
            "Support: 1\n",
            " \n",
            "Rule: If a viewer FunnyCatVideos, they will also like BuraTech\n",
            "Confidence: 41.3%\n",
            "Support: 19\n",
            " \n",
            "Rule: If a viewer BuraTech, they will also like Investing101\n",
            "Confidence: 2.5%\n",
            "Support: 1\n",
            " \n",
            "Rule: If a viewer BuraTech, they will also like FunnyCatVideos\n",
            "Confidence: 47.5%\n",
            "Support: 19\n",
            " \n",
            "Rule: If a viewer BuraTech, they will also like VideoGameReviewer\n",
            "Confidence: 85.0%\n",
            "Support: 34\n",
            " \n",
            "Rule: If a viewer VideoGameReviewer, they will also like BuraTech\n",
            "Confidence: 50.7%\n",
            "Support: 34\n",
            " \n"
          ]
        }
      ]
    },
    {
      "cell_type": "code",
      "source": [
        "from pprint import pprint\n",
        "\n",
        "pprint(list(support.items()))"
      ],
      "metadata": {
        "id": "oCFCFTPVFft9",
        "colab": {
          "base_uri": "https://localhost:8080/"
        },
        "outputId": "6656d47d-6f6e-4de6-f133-593062d26fb6"
      },
      "execution_count": 22,
      "outputs": [
        {
          "output_type": "stream",
          "name": "stdout",
          "text": [
            "[((0, 1), 13),\n",
            " ((0, 3), 3),\n",
            " ((0, 4), 5),\n",
            " ((1, 0), 13),\n",
            " ((1, 3), 21),\n",
            " ((1, 4), 36),\n",
            " ((3, 0), 3),\n",
            " ((3, 1), 21),\n",
            " ((3, 4), 33),\n",
            " ((4, 0), 5),\n",
            " ((4, 1), 36),\n",
            " ((4, 3), 33),\n",
            " ((2, 3), 24),\n",
            " ((3, 2), 24),\n",
            " ((0, 2), 1),\n",
            " ((1, 2), 19),\n",
            " ((2, 0), 1),\n",
            " ((2, 1), 19),\n",
            " ((2, 4), 34),\n",
            " ((4, 2), 34)]\n"
          ]
        }
      ]
    },
    {
      "cell_type": "code",
      "source": [
        "from operator import itemgetter\n",
        "\n",
        "support_sorted = sorted(support.items(),\n",
        "                        key = itemgetter(1),\n",
        "                        reverse=True)\n",
        "\n",
        "def print_results(premise, conclusion, support, confidence, features):\n",
        "\n",
        "  first_channel = features[premise]\n",
        "\n",
        "  second_channel = features[conclusion]\n",
        "\n",
        "  print(\"Rule: If a viewer liked {0}, they will also like {1}\".format(first_channel,\n",
        "                                                                      second_channel))\n",
        "  \n",
        "  print(\"Confidence: {0:.1f}%\".format( 100 * confidence[(premise, conclusion)]))\n",
        "\n",
        "  print(\"Support: {0}\".format(support[(premise, conclusion)]))\n",
        "\n",
        "  print(\" \")\n",
        "\n",
        "for index in range(5):\n",
        "\n",
        "  (premise, conclusion) = support_sorted[index][0]\n",
        "\n",
        "  print_results(premise, conclusion, support, confidence, features)"
      ],
      "metadata": {
        "id": "SkOFqHfbFfqb",
        "colab": {
          "base_uri": "https://localhost:8080/"
        },
        "outputId": "652b669c-e965-4a59-819f-8fe871775c96"
      },
      "execution_count": 23,
      "outputs": [
        {
          "output_type": "stream",
          "name": "stdout",
          "text": [
            "Rule: If a viewer liked FunnyCatVideos, they will also like VideoGameReviewer\n",
            "Confidence: 78.3%\n",
            "Support: 36\n",
            " \n",
            "Rule: If a viewer liked VideoGameReviewer, they will also like FunnyCatVideos\n",
            "Confidence: 53.7%\n",
            "Support: 36\n",
            " \n",
            "Rule: If a viewer liked BuraTech, they will also like VideoGameReviewer\n",
            "Confidence: 85.0%\n",
            "Support: 34\n",
            " \n",
            "Rule: If a viewer liked VideoGameReviewer, they will also like BuraTech\n",
            "Confidence: 50.7%\n",
            "Support: 34\n",
            " \n",
            "Rule: If a viewer liked MammothInteracticve, they will also like VideoGameReviewer\n",
            "Confidence: 82.5%\n",
            "Support: 33\n",
            " \n"
          ]
        }
      ]
    },
    {
      "cell_type": "code",
      "source": [
        "confidence_sorted = sorted(confidence.items(),\n",
        "                           key = itemgetter(1),\n",
        "                           reverse = True)\n",
        "\n",
        "for index in range(5):\n",
        "\n",
        "  (premise, conclusion) = confidence_sorted[index][0]\n",
        "\n",
        "  print_results(premise, conclusion, support, confidence, features)"
      ],
      "metadata": {
        "id": "tMJutIdRFfnM",
        "colab": {
          "base_uri": "https://localhost:8080/"
        },
        "outputId": "b9900534-6843-47dd-e99c-864793c408bf"
      },
      "execution_count": 24,
      "outputs": [
        {
          "output_type": "stream",
          "name": "stdout",
          "text": [
            "Rule: If a viewer liked BuraTech, they will also like VideoGameReviewer\n",
            "Confidence: 85.0%\n",
            "Support: 34\n",
            " \n",
            "Rule: If a viewer liked MammothInteracticve, they will also like VideoGameReviewer\n",
            "Confidence: 82.5%\n",
            "Support: 33\n",
            " \n",
            "Rule: If a viewer liked FunnyCatVideos, they will also like VideoGameReviewer\n",
            "Confidence: 78.3%\n",
            "Support: 36\n",
            " \n",
            "Rule: If a viewer liked BuraTech, they will also like MammothInteracticve\n",
            "Confidence: 60.0%\n",
            "Support: 24\n",
            " \n",
            "Rule: If a viewer liked MammothInteracticve, they will also like BuraTech\n",
            "Confidence: 60.0%\n",
            "Support: 24\n",
            " \n"
          ]
        }
      ]
    }
  ]
}