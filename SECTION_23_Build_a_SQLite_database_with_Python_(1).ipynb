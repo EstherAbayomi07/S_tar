{
  "nbformat": 4,
  "nbformat_minor": 0,
  "metadata": {
    "colab": {
      "provenance": [],
      "include_colab_link": true
    },
    "kernelspec": {
      "name": "python3",
      "display_name": "Python 3"
    },
    "language_info": {
      "name": "python"
    }
  },
  "cells": [
    {
      "cell_type": "markdown",
      "metadata": {
        "id": "view-in-github",
        "colab_type": "text"
      },
      "source": [
        "<a href=\"https://colab.research.google.com/github/EstherAbayomi07/S_tar/blob/main1/SECTION_23_Build_a_SQLite_database_with_Python_(1).ipynb\" target=\"_parent\"><img src=\"https://colab.research.google.com/assets/colab-badge.svg\" alt=\"Open In Colab\"/></a>"
      ]
    },
    {
      "cell_type": "markdown",
      "source": [],
      "metadata": {
        "id": "iGxt8rFYKjmX"
      }
    },
    {
      "cell_type": "code",
      "execution_count": null,
      "metadata": {
        "id": "mZ9yjo3-rEey"
      },
      "outputs": [],
      "source": [
        "#SECTION 23\n",
        "\n",
        "import sqlite3"
      ]
    },
    {
      "cell_type": "code",
      "source": [
        "connection = sqlite3.connect(\"pets.db\")"
      ],
      "metadata": {
        "id": "jwXGv3U-2XUv"
      },
      "execution_count": null,
      "outputs": []
    },
    {
      "cell_type": "code",
      "source": [
        "cursor = connection.cursor()"
      ],
      "metadata": {
        "id": "rqYJ2DvV2XSM"
      },
      "execution_count": null,
      "outputs": []
    },
    {
      "cell_type": "code",
      "source": [
        "cursor"
      ],
      "metadata": {
        "id": "KDqZs8YJ2XO9",
        "colab": {
          "base_uri": "https://localhost:8080/"
        },
        "outputId": "4d134448-a288-4fe7-94e7-99e4a150da0b"
      },
      "execution_count": null,
      "outputs": [
        {
          "output_type": "execute_result",
          "data": {
            "text/plain": [
              "<sqlite3.Cursor at 0x7fe3c42d6260>"
            ]
          },
          "metadata": {},
          "execution_count": 4
        }
      ]
    },
    {
      "cell_type": "code",
      "source": [
        "query = '''CREATE TABLE IF NOT EXISTS Pet (\n",
        "  id INTEGER, \n",
        "  name VARCHAR(20), \n",
        "  gender VARCHAR(1), \n",
        "  dob DATE\n",
        "  ownerId INTEGER\n",
        "\n",
        "); '''  #three quotation marks beginningamd ednding the code is for multilines code \n",
        "#for a single line, single quotation mark to begin and end is okay\n",
        "\n",
        "cursor.execute(query)"
      ],
      "metadata": {
        "id": "davS5B6mJLNP",
        "colab": {
          "base_uri": "https://localhost:8080/"
        },
        "outputId": "344841c1-72b0-42e3-bb48-73fa1f3a64e7"
      },
      "execution_count": null,
      "outputs": [
        {
          "output_type": "execute_result",
          "data": {
            "text/plain": [
              "<sqlite3.Cursor at 0x7fe3c42d6260>"
            ]
          },
          "metadata": {},
          "execution_count": 5
        }
      ]
    },
    {
      "cell_type": "code",
      "source": [
        "query = ''' INSERT INTO Pet\n",
        "            (id, name) \n",
        "            values(1, \"Muffin\") \n",
        "'''\n",
        "\n",
        "cursor.execute(query)"
      ],
      "metadata": {
        "id": "h7DGN2dMJLGT",
        "colab": {
          "base_uri": "https://localhost:8080/"
        },
        "outputId": "7324743f-f4eb-4e80-d3e6-2178f54c4b25"
      },
      "execution_count": null,
      "outputs": [
        {
          "output_type": "execute_result",
          "data": {
            "text/plain": [
              "<sqlite3.Cursor at 0x7fe3c42d6260>"
            ]
          },
          "metadata": {},
          "execution_count": 8
        }
      ]
    },
    {
      "cell_type": "code",
      "source": [
        "connection.commit()"
      ],
      "metadata": {
        "id": "eRtPnsmFJLDc"
      },
      "execution_count": null,
      "outputs": []
    },
    {
      "cell_type": "code",
      "source": [
        "query = 'SELECT * from Pet'"
      ],
      "metadata": {
        "id": "NFNeySjuJLAG"
      },
      "execution_count": null,
      "outputs": []
    },
    {
      "cell_type": "code",
      "source": [
        "cursor.execute(query)"
      ],
      "metadata": {
        "id": "wr03MUu6JK9R",
        "colab": {
          "base_uri": "https://localhost:8080/"
        },
        "outputId": "d4cba69b-058f-41d7-d10f-1800fc653902"
      },
      "execution_count": null,
      "outputs": [
        {
          "output_type": "execute_result",
          "data": {
            "text/plain": [
              "<sqlite3.Cursor at 0x7fe3c42d6260>"
            ]
          },
          "metadata": {},
          "execution_count": 11
        }
      ]
    },
    {
      "cell_type": "code",
      "source": [
        "result = cursor.fetchall()"
      ],
      "metadata": {
        "id": "KZNYrRj2JK7U"
      },
      "execution_count": null,
      "outputs": []
    },
    {
      "cell_type": "code",
      "source": [
        "result"
      ],
      "metadata": {
        "id": "5bQ0wXUUJK35",
        "colab": {
          "base_uri": "https://localhost:8080/"
        },
        "outputId": "de644d46-3263-4afd-db27-ea08b00d62f8"
      },
      "execution_count": null,
      "outputs": [
        {
          "output_type": "execute_result",
          "data": {
            "text/plain": [
              "[(1, 'Muffin', None, None)]"
            ]
          },
          "metadata": {},
          "execution_count": 13
        }
      ]
    },
    {
      "cell_type": "code",
      "source": [
        "print(result)"
      ],
      "metadata": {
        "id": "AnJPqac9JK1E",
        "colab": {
          "base_uri": "https://localhost:8080/"
        },
        "outputId": "16ba3c6c-c757-491e-fca8-119d11718d3d"
      },
      "execution_count": null,
      "outputs": [
        {
          "output_type": "stream",
          "name": "stdout",
          "text": [
            "[(1, 'Muffin', None, None)]\n"
          ]
        }
      ]
    },
    {
      "cell_type": "code",
      "source": [
        "query = ''' INSERT INTO Pet\n",
        "            (id)\n",
        "            values(2)\n",
        "            \n",
        "'''\n",
        "\n",
        "cursor.execute(query)\n",
        "\n",
        "result = cursor.fetchall()\n",
        "\n",
        "result"
      ],
      "metadata": {
        "id": "HBX-8T6YJKx4",
        "colab": {
          "base_uri": "https://localhost:8080/"
        },
        "outputId": "93d2b203-3a43-4996-bd56-632e50f816f4"
      },
      "execution_count": null,
      "outputs": [
        {
          "output_type": "execute_result",
          "data": {
            "text/plain": [
              "[]"
            ]
          },
          "metadata": {},
          "execution_count": 16
        }
      ]
    },
    {
      "cell_type": "code",
      "source": [
        "query = ''' INSERT INTO Pet\n",
        "            (id, name, gender)\n",
        "            values(3, \"spot\", \"F\")\n",
        "            '''"
      ],
      "metadata": {
        "id": "UlnxOn2zMUJZ"
      },
      "execution_count": null,
      "outputs": []
    },
    {
      "cell_type": "code",
      "source": [
        "cursor.execute(query)"
      ],
      "metadata": {
        "id": "7iavU7IaMjJT",
        "colab": {
          "base_uri": "https://localhost:8080/"
        },
        "outputId": "f47fd8ab-3911-47ce-d2d4-a2495e88beef"
      },
      "execution_count": null,
      "outputs": [
        {
          "output_type": "execute_result",
          "data": {
            "text/plain": [
              "<sqlite3.Cursor at 0x7fe3c42d6260>"
            ]
          },
          "metadata": {},
          "execution_count": 18
        }
      ]
    },
    {
      "cell_type": "code",
      "source": [
        "select_all_pets_query = ''' SELECT * \n",
        "                            from Pet \n",
        "                         '''\n",
        "\n",
        "cursor.execute(select_all_pets_query)\n",
        "\n",
        "result = cursor.fetchall()\n",
        "\n",
        "result"
      ],
      "metadata": {
        "id": "KRG_RVN1JKuy",
        "colab": {
          "base_uri": "https://localhost:8080/"
        },
        "outputId": "4c69ac22-627e-41ee-f85b-889d89230c74"
      },
      "execution_count": null,
      "outputs": [
        {
          "output_type": "execute_result",
          "data": {
            "text/plain": [
              "[(1, 'Muffin', None, None), (2, None, None, None), (3, 'spot', 'F', None)]"
            ]
          },
          "metadata": {},
          "execution_count": 19
        }
      ]
    },
    {
      "cell_type": "code",
      "source": [
        "query = ''' CREATE TABLE IF NOT EXISTS Owner\n",
        "            (id INTEGER, \n",
        "            firstName VARCHAR(20),\n",
        "            lastName VARCHAR(20),\n",
        "            address VARCHAR(20),\n",
        "            city VARCHAR(20),\n",
        "            country VARCHAR(20),\n",
        "            zipcode VARCHAR(10));\n",
        "'''\n",
        "\n",
        "cursor.execute(query)\n",
        "\n",
        "query = ''' INSERT INTO Owner\n",
        "            (id, firstName)\n",
        "            values(1, \"Alex\");\n",
        "'''\n",
        "\n",
        "cursor.execute(query)"
      ],
      "metadata": {
        "id": "5TtJ8wS0JKr7",
        "colab": {
          "base_uri": "https://localhost:8080/"
        },
        "outputId": "8633ef95-1caa-48d5-fade-ae9f1d896cb9"
      },
      "execution_count": null,
      "outputs": [
        {
          "output_type": "execute_result",
          "data": {
            "text/plain": [
              "<sqlite3.Cursor at 0x7fe3c42d6260>"
            ]
          },
          "metadata": {},
          "execution_count": 20
        }
      ]
    },
    {
      "cell_type": "code",
      "source": [
        "query = 'SELECT * from Owner'"
      ],
      "metadata": {
        "id": "TkD6ubB8JKpO"
      },
      "execution_count": null,
      "outputs": []
    },
    {
      "cell_type": "code",
      "source": [
        "cursor.execute(query)\n",
        "\n",
        "result = cursor.fetchall()\n",
        "\n",
        "result"
      ],
      "metadata": {
        "id": "8si2TnhYJKmH",
        "colab": {
          "base_uri": "https://localhost:8080/"
        },
        "outputId": "1b473d9f-150a-47f5-d189-26428902d7ca"
      },
      "execution_count": null,
      "outputs": [
        {
          "output_type": "execute_result",
          "data": {
            "text/plain": [
              "[(1, 'Alex', None, None, None, None, None)]"
            ]
          },
          "metadata": {},
          "execution_count": 22
        }
      ]
    }
  ]
}