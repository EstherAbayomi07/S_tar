{
  "nbformat": 4,
  "nbformat_minor": 0,
  "metadata": {
    "colab": {
      "provenance": [],
      "authorship_tag": "ABX9TyOFLus2gxPEjgjir53f12nZ",
      "include_colab_link": true
    },
    "kernelspec": {
      "name": "python3",
      "display_name": "Python 3"
    },
    "language_info": {
      "name": "python"
    }
  },
  "cells": [
    {
      "cell_type": "markdown",
      "metadata": {
        "id": "view-in-github",
        "colab_type": "text"
      },
      "source": [
        "<a href=\"https://colab.research.google.com/github/EstherAbayomi07/S_tar/blob/main1/SECTION_29B_build_interactive_python_dashboards_with_plotly_and_dash_(1).ipynb\" target=\"_parent\"><img src=\"https://colab.research.google.com/assets/colab-badge.svg\" alt=\"Open In Colab\"/></a>"
      ]
    },
    {
      "cell_type": "code",
      "execution_count": null,
      "metadata": {
        "id": "VXlZXAVKsopi"
      },
      "outputs": [],
      "source": []
    },
    {
      "cell_type": "code",
      "source": [
        "#SECTION29B  #plotly #dash"
      ],
      "metadata": {
        "id": "6mVfZMzKx70k"
      },
      "execution_count": 1,
      "outputs": []
    },
    {
      "cell_type": "code",
      "source": [
        "!pip install jupyter-dash"
      ],
      "metadata": {
        "id": "_5CT9WUpx7x5"
      },
      "execution_count": null,
      "outputs": []
    },
    {
      "cell_type": "code",
      "source": [
        "from jupyter_dash import JupyterDash\n",
        "import dash_core_components as dcc\n",
        "import dash_html_components as html\n",
        "\n",
        "import plotly.express as px\n",
        "\n",
        "df = px.data.tips()\n",
        "\n",
        "app = JupyterDash(__name__)\n",
        "\n",
        "print(app)"
      ],
      "metadata": {
        "id": "Q3iBnzWAx7vR",
        "colab": {
          "base_uri": "https://localhost:8080/",
          "height": 181
        },
        "outputId": "54a5a019-f2a6-4429-8958-cb11bf8971de"
      },
      "execution_count": 3,
      "outputs": [
        {
          "output_type": "stream",
          "name": "stderr",
          "text": [
            "<ipython-input-3-377a8adf15dd>:2: UserWarning: \n",
            "The dash_core_components package is deprecated. Please replace\n",
            "`import dash_core_components as dcc` with `from dash import dcc`\n",
            "  import dash_core_components as dcc\n",
            "<ipython-input-3-377a8adf15dd>:3: UserWarning: \n",
            "The dash_html_components package is deprecated. Please replace\n",
            "`import dash_html_components as html` with `from dash import html`\n",
            "  import dash_html_components as html\n"
          ]
        },
        {
          "output_type": "stream",
          "name": "stdout",
          "text": [
            "<jupyter_dash.jupyter_app.JupyterDash object at 0x7fa584f165e0>\n"
          ]
        }
      ]
    },
    {
      "cell_type": "code",
      "source": [
        "from dash.dependencies import Input,  Output\n",
        "\n",
        "app.layout = html.Div([\n",
        "                      html.H1(\"My Dash App\"),\n",
        "                      html.P(\"Welcome.\"),\n",
        "                       dcc.Graph(id=\"graph\"),\n",
        "                       html.Label([ \n",
        "                                   \"colorscale\",\n",
        "                                   dcc.Dropdown(\n",
        "                                       id=\"colorscale-dropdown\",\n",
        "                                       clearable=False,\n",
        "                                       value=\"plasma\",\n",
        "                                       options=[\n",
        "                                                {\"label\": color, \"value\": color}\n",
        "                                                for color in px.colors.named_colorscales()\n",
        "                                       ]\n",
        "\n",
        "\n",
        "                                   )\n",
        "                           \n",
        "\n",
        "\n",
        "\n",
        "\n",
        "                       ])\n",
        "])\n",
        "\n",
        "@app.callback(\n",
        "     Output(\"graph\", \"figure\"),\n",
        "     [Input(\"colorscale-dropdown\", \"value\")]\n",
        "\n",
        ")\n",
        "\n",
        "\n",
        "\n",
        "def update_figure(colorscale):\n",
        "  return px.scatter(\n",
        "      df,\n",
        "      x=\"total_bill\",\n",
        "      y=\"tip\",\n",
        "      color=\"size\",\n",
        "      color_continuous_scale=colorscale,\n",
        "      render_mode=\"webgl\",\n",
        "      title=\"Y vs X\"\n",
        "  )\n",
        "\n",
        "\n",
        "app.run_server(mode=\"inline\")"
      ],
      "metadata": {
        "id": "X5nhfNsUx7sC",
        "colab": {
          "base_uri": "https://localhost:8080/",
          "height": 744
        },
        "outputId": "7d4efe44-65f5-4f4e-b2c8-5f9b8037af95"
      },
      "execution_count": 4,
      "outputs": [
        {
          "output_type": "stream",
          "name": "stdout",
          "text": [
            "Dash is running on http://127.0.0.1:8050/\n",
            "\n"
          ]
        },
        {
          "output_type": "stream",
          "name": "stderr",
          "text": [
            "INFO:dash.dash:Dash is running on http://127.0.0.1:8050/\n",
            "\n"
          ]
        },
        {
          "output_type": "display_data",
          "data": {
            "text/plain": [
              "<IPython.core.display.Javascript object>"
            ],
            "application/javascript": [
              "(async (port, path, width, height, cache, element) => {\n",
              "    if (!google.colab.kernel.accessAllowed && !cache) {\n",
              "      return;\n",
              "    }\n",
              "    element.appendChild(document.createTextNode(''));\n",
              "    const url = await google.colab.kernel.proxyPort(port, {cache});\n",
              "    const iframe = document.createElement('iframe');\n",
              "    iframe.src = new URL(path, url).toString();\n",
              "    iframe.height = height;\n",
              "    iframe.width = width;\n",
              "    iframe.style.border = 0;\n",
              "    iframe.allow = [\n",
              "        'accelerometer',\n",
              "        'autoplay',\n",
              "        'camera',\n",
              "        'clipboard-read',\n",
              "        'clipboard-write',\n",
              "        'gyroscope',\n",
              "        'magnetometer',\n",
              "        'microphone',\n",
              "        'serial',\n",
              "        'usb',\n",
              "        'xr-spatial-tracking',\n",
              "    ].join('; ');\n",
              "    element.appendChild(iframe);\n",
              "  })(8050, \"/\", \"100%\", 650, false, window.element)"
            ]
          },
          "metadata": {}
        }
      ]
    }
  ]
}