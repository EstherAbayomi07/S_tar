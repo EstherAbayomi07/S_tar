{
  "nbformat": 4,
  "nbformat_minor": 0,
  "metadata": {
    "colab": {
      "provenance": [],
      "authorship_tag": "ABX9TyOGTsgb6rpZCqcNg0EF61wA",
      "include_colab_link": true
    },
    "kernelspec": {
      "name": "python3",
      "display_name": "Python 3"
    },
    "language_info": {
      "name": "python"
    }
  },
  "cells": [
    {
      "cell_type": "markdown",
      "metadata": {
        "id": "view-in-github",
        "colab_type": "text"
      },
      "source": [
        "<a href=\"https://colab.research.google.com/github/EstherAbayomi07/S_tar/blob/main1/_SECTION_26_%26_27_stock_market_data_analysis_and_visualization(1_%26_2).ipynb\" target=\"_parent\"><img src=\"https://colab.research.google.com/assets/colab-badge.svg\" alt=\"Open In Colab\"/></a>"
      ]
    },
    {
      "cell_type": "code",
      "execution_count": null,
      "metadata": {
        "id": "9P-_HsRcrB2Y"
      },
      "outputs": [],
      "source": []
    },
    {
      "cell_type": "code",
      "source": [
        "#SECTION26"
      ],
      "metadata": {
        "id": "Zj8vwgHaWoPe"
      },
      "execution_count": 5,
      "outputs": []
    },
    {
      "cell_type": "code",
      "source": [
        "import pandas\n",
        "from pandas_datareader import DataReader\n",
        "\n",
        "from datetime import datetime\n",
        "\n",
        "stocks_list =[\"FB\",\n",
        "              \"AMZN\",\n",
        "              \"NFLX\",\n",
        "              \"GOOG\"]\n",
        "\n",
        "start = datetime(datetime.now().year - 1,\n",
        "                 datetime.now().month,\n",
        "                 datetime.now().day)\n",
        "\n",
        "end = datetime.now()\n",
        "\n",
        "for stock in stocks_list:\n",
        "\n",
        "\n",
        "  globals()[stock] = DataReader(stock,\n",
        "                                \"yahoo\",\n",
        "                                start,\n",
        "                                end)"
      ],
      "metadata": {
        "id": "fRr0FRYmWoNF"
      },
      "execution_count": null,
      "outputs": []
    },
    {
      "cell_type": "code",
      "source": [
        "FB.describe()"
      ],
      "metadata": {
        "id": "jBYMbksxWoJ_"
      },
      "execution_count": null,
      "outputs": []
    },
    {
      "cell_type": "code",
      "source": [
        "print(AMZN)"
      ],
      "metadata": {
        "id": "kBVoaX-OWoHS"
      },
      "execution_count": null,
      "outputs": []
    },
    {
      "cell_type": "code",
      "source": [
        "NFLX.info()"
      ],
      "metadata": {
        "id": "ildf1qufWoEv"
      },
      "execution_count": null,
      "outputs": []
    },
    {
      "cell_type": "code",
      "source": [
        "GOOG[\"Adj Close\"].plot()"
      ],
      "metadata": {
        "id": "oz2XAdvCWoB7"
      },
      "execution_count": null,
      "outputs": []
    },
    {
      "cell_type": "code",
      "source": [
        "GOOG[\"Volume\"].plot(legend = True,\n",
        "                    figsize = (14, 6))"
      ],
      "metadata": {
        "id": "YMh8jnz2Wn_D"
      },
      "execution_count": null,
      "outputs": []
    },
    {
      "cell_type": "code",
      "source": [
        "moving_average_intervals = [5, 20, 50]\n",
        "\n",
        "for moving_average in moving_average_intervals:\n",
        "\n",
        "  column_name = \"moving_average for %s days\" %(str(moving_average))\n",
        "\n",
        "  GOOG[column_name] = GOOG[\"Adj Close\"].rolling(moving_average).mean()\n",
        "\n",
        "GOOG[[\"Adj Close\",\n",
        "      \"moving_avaerage for 5 days\",\n",
        "      \"moving_avaerage for 20 days\",\n",
        "      \"moving_avaerage for 50 days\"]],plot(figsize = (14, 6))"
      ],
      "metadata": {
        "id": "-HSwxzo-Z4ii"
      },
      "execution_count": null,
      "outputs": []
    },
    {
      "cell_type": "code",
      "source": [
        "GOOG[\"Daily Return\"] = GOOG[\"Adj Close\"].pct_change()\n",
        "\n",
        "GOOG[\"Daily Return\"].plot(figsize = (14, 14),\n",
        "                          legend = True,\n",
        "                          linestyle = '--',\n",
        "                          marker = 'o' )"
      ],
      "metadata": {
        "id": "wSLdbtoUZ4fb"
      },
      "execution_count": null,
      "outputs": []
    },
    {
      "cell_type": "code",
      "source": [
        "adjusted_closing_dataframe = DataReader(stocks_list,\n",
        "                                        \"yahoo\",\n",
        "                                        start,\n",
        "                                        end)[\"Adj Close\"]\n",
        "\n",
        "print(adjusted_closing_dataframe)"
      ],
      "metadata": {
        "id": "t_QHBLQnZ4bx"
      },
      "execution_count": null,
      "outputs": []
    },
    {
      "cell_type": "code",
      "source": [
        "adjusted_closing_dataframe.head()"
      ],
      "metadata": {
        "id": "lwpQMZtaZ4Yy"
      },
      "execution_count": null,
      "outputs": []
    },
    {
      "cell_type": "code",
      "source": [
        "stocks_returns = adjusted_closing_dataframe,pct_change()\n",
        "\n",
        "print(stocks_returns)"
      ],
      "metadata": {
        "id": "KS5_oQ7xZ4VY"
      },
      "execution_count": null,
      "outputs": []
    },
    {
      "cell_type": "code",
      "source": [
        "import seaborn\n",
        "\n",
        "seaborn.jointpoint(\"GOOG\",\n",
        "                   \"GOOG\",\n",
        "                   data = stocks_returns,\n",
        "                   color = \"orange\")"
      ],
      "metadata": {
        "id": "iD9be81ZZ4QP"
      },
      "execution_count": null,
      "outputs": []
    },
    {
      "cell_type": "code",
      "source": [
        "seaborn.jointpoint(\"AMZN\",\n",
        "                   \"NFLX\",\n",
        "                   data = stocks_returns\n",
        "                   )"
      ],
      "metadata": {
        "id": "oun39gXfZ4Mu"
      },
      "execution_count": null,
      "outputs": []
    },
    {
      "cell_type": "code",
      "source": [
        "seaborn.pairplot(data = stocks_returns.dropna())"
      ],
      "metadata": {
        "id": "pmQII3eNZ4Jd"
      },
      "execution_count": null,
      "outputs": []
    },
    {
      "cell_type": "code",
      "source": [
        "seaborn.PairGrid(data = adjusted_closing_dataframe)\n",
        "\n",
        "import matplotlib.pyplot as pyplot\n",
        "\n",
        "returns_figure.map_upper(pyplot.scatter)\n",
        "\n",
        "returns_figure.map_diag(pyplot.hist, bins = 30)\n",
        "\n",
        "returns_figure.map_lower(seaborn.kdeplot)\n",
        "\n",
        "\n"
      ],
      "metadata": {
        "id": "azdm04gVZ39W"
      },
      "execution_count": null,
      "outputs": []
    },
    {
      "cell_type": "code",
      "source": [
        "print(stocks_returns.corr())"
      ],
      "metadata": {
        "id": "2GIgaGFyZ36m"
      },
      "execution_count": null,
      "outputs": []
    },
    {
      "cell_type": "code",
      "source": [
        "correlations = stocks_returns.corr()\n",
        "\n",
        "seaborn.heatmap(data = correlations,\n",
        "                fmt = \"6g\")"
      ],
      "metadata": {
        "id": "ZvIg8hVtZ33P"
      },
      "execution_count": null,
      "outputs": []
    },
    {
      "cell_type": "code",
      "source": [],
      "metadata": {
        "id": "Ns0N30AaQ2Hn"
      },
      "execution_count": null,
      "outputs": []
    },
    {
      "cell_type": "code",
      "source": [
        "#SECTION27"
      ],
      "metadata": {
        "id": "Av_cqxqUZ30p"
      },
      "execution_count": null,
      "outputs": []
    },
    {
      "cell_type": "code",
      "source": [
        "returns = stocks_returns.dropna()\n",
        "\n",
        "import numpy\n",
        "\n",
        "circles_area = numpy.pi * 15\n",
        "\n",
        "pyplot.scatter(x = returns.mean(),\n",
        "               y = returns.std(),\n",
        "               s = circles_area)\n",
        "\n",
        "pyplot.xlabel(\"Expected Returns\")\n",
        "\n",
        "pyplot.ylabel(\"Risk\")\n",
        "\n",
        "for label, x, y in zip(returns.columns,\n",
        "                       returns.mean(),\n",
        "                       returns.std()):\n",
        "  pyplot.annotate(label,\n",
        "                  xy = (x, y),\n",
        "                  xytext = (50, 50),\n",
        "                  textcoords = \"offset points\",\n",
        "                  ha = \"right\",\n",
        "                  va = \"bottom\",\n",
        "                  arrowsprops = dict(arrowstyle = \"-\",\n",
        "                                     coonectionstyle = \"arc3, rad = -0.3\"))\n",
        "  \n",
        "  seaborn.distplot(GOOG[\"Daily Return\"].dropna(),\n",
        "                   bins = 100)"
      ],
      "metadata": {
        "id": "jIPsQNukZ3yC"
      },
      "execution_count": null,
      "outputs": []
    },
    {
      "cell_type": "code",
      "source": [
        "returns.head()"
      ],
      "metadata": {
        "id": "9Y4vc-U2hEuD"
      },
      "execution_count": null,
      "outputs": []
    },
    {
      "cell_type": "code",
      "source": [
        "returns[\"FB\"].quantile(0.05) * 100"
      ],
      "metadata": {
        "id": "50f_2qdqhErd"
      },
      "execution_count": null,
      "outputs": []
    },
    {
      "cell_type": "code",
      "source": [
        "NFLX,head()"
      ],
      "metadata": {
        "id": "mvEL29b_i-8Q"
      },
      "execution_count": null,
      "outputs": []
    },
    {
      "cell_type": "code",
      "source": [
        "starting_price = 368.700012"
      ],
      "metadata": {
        "id": "I-Jdp-rhjCuN"
      },
      "execution_count": null,
      "outputs": []
    },
    {
      "cell_type": "code",
      "source": [
        "days = 365\n",
        "\n",
        "dt = 1 / days\n",
        "\n",
        "sigma = returns.std()[\"NFLX\"]\n",
        "\n",
        "mu = returns.mean()[\"NFLX\"]\n",
        "\n",
        "def monte_carlo_analysis(starting_price,\n",
        "                         days,\n",
        "                         mu,\n",
        "                         sigma):\n",
        "  \n",
        "  price = numpy.zeros(days)\n",
        "\n",
        "  price[0] = starting_price\n",
        "\n",
        "  shock = numpy.zeros(days)\n",
        "\n",
        "  drift = numpy.zeros(days)\n",
        "\n",
        "  for day in range(1, days):\n",
        "\n",
        "    shock[day] = numpy.random.normal(loc = mu * dt, \n",
        "                                     scale = sigma * numpy.sqrt(dt))\n",
        "    \n",
        "    drift[day] = mu * dt\n",
        "\n",
        "    price[day] = price[days - 1] + (price[day - 1 ] * (drift[day] + shock[day]))\n",
        "\n",
        "  return price\n",
        "\n",
        "for run in range(3) :\n",
        "  price = monte_carlo_analysis(starting_price, days, mu, sigma)\n",
        "\n",
        "  pyplot.plot(price)\n",
        "\n",
        "  pyplot.xlabel(\"Days\")\n",
        "\n",
        "  pyplot.ylabel(\"Price\")\n"
      ],
      "metadata": {
        "id": "nZMFW_hUhEoo"
      },
      "execution_count": null,
      "outputs": []
    },
    {
      "cell_type": "code",
      "source": [
        "number_of_runs = 100\n",
        "\n",
        "simulations = numpy.zeros(number_of_runs)\n",
        "\n",
        "quantile = numpy.percentile(simulations, 1)\n",
        "\n",
        "for run in range(number_of_run):\n",
        "\n",
        "  simulations[run] = monte_carlo_analysis(starting_price,\n",
        "                                          days,\n",
        "                                          mu,\n",
        "                                          sigma)[days - 1]\n",
        "\n",
        "pyplot.hist(simulations, bins = 100)\n",
        "\n",
        "pyplot.figtext(0.6, 0.8, s = \"Starting price: $%.2f\" % starting_price)\n",
        "\n",
        "pyplot.figtext(0.6, 0.7, s = \"Mean final price: $%.2f\" % simulations.mean())\n",
        "\n",
        "pyplot.figtext(0.6, 0.6, s = \"Variance (99 percent confidence): $%.2f\" % (starting_price - quantile))\n",
        "\n",
        "pyplot.figtext(0.6, 0.5, s = \"1 percent Quantile: $%.2f\" % quantile)\n",
        "\n",
        "pyplot.axvline(x = quantile, linewidth = 3)\n",
        "\n",
        "\n"
      ],
      "metadata": {
        "id": "9imSkMxwhEmB"
      },
      "execution_count": null,
      "outputs": []
    }
  ]
}