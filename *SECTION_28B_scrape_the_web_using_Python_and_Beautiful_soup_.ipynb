{
  "nbformat": 4,
  "nbformat_minor": 0,
  "metadata": {
    "colab": {
      "provenance": [],
      "authorship_tag": "ABX9TyN5tJ0nK2eJnzgM4ecI5dHI",
      "include_colab_link": true
    },
    "kernelspec": {
      "name": "python3",
      "display_name": "Python 3"
    },
    "language_info": {
      "name": "python"
    }
  },
  "cells": [
    {
      "cell_type": "markdown",
      "metadata": {
        "id": "view-in-github",
        "colab_type": "text"
      },
      "source": [
        "<a href=\"https://colab.research.google.com/github/EstherAbayomi07/S_tar/blob/main1/*SECTION_28B_scrape_the_web_using_Python_and_Beautiful_soup_.ipynb\" target=\"_parent\"><img src=\"https://colab.research.google.com/assets/colab-badge.svg\" alt=\"Open In Colab\"/></a>"
      ]
    },
    {
      "cell_type": "code",
      "execution_count": null,
      "metadata": {
        "id": "MSzb2ke7sjin"
      },
      "outputs": [],
      "source": []
    },
    {
      "cell_type": "code",
      "source": [
        "#SECTION28B web scraping"
      ],
      "metadata": {
        "id": "7apIen0GhEjy"
      },
      "execution_count": null,
      "outputs": []
    },
    {
      "cell_type": "code",
      "source": [
        "html = '''\n",
        "<!DOCTYPE html>\n",
        "<html lang=\"en\" xmlns=\"http://www.w3.org/1999/html\">\n",
        "<head>\n",
        "    <meta charset=\"UTF-8\">\n",
        "    <meta name=\"viewport\"  content=\"width=device-width\">\n",
        "    <title>Site Title</title>\n",
        "</head>\n",
        "<body>\n",
        "    </h1 class= \"title\">page Title</h1>\n",
        "    <p class=\"description\">\n",
        "        We are Team Mammoth. Our top courses are:\n",
        "        <br><br>\n",
        "\n",
        "        <a href=\"https://training.mammothinteractive.com/hello-coding\"\n",
        "           class=\"course\"\n",
        "           id=\"helloCoding\"\n",
        "        >\n",
        "            Hello Coding\n",
        "        </a>\n",
        "        <br>\n",
        "        <a href=\"https://training.mammothinteractive.com/wall-street-coder\"\n",
        "        >\n",
        "            Wall Street Coder\n",
        "        </a>\n",
        "        <br>\n",
        "        <a href=\"https://training.mammothinteractive.com/machine-learning-for-everybody\"\n",
        "           class=\"course\"\n",
        "           id=\"machineLearningForEverybody\"\n",
        "        >\n",
        "            Machine learning for Everybody\n",
        "        </a>\n",
        "        <br>\n",
        "        Get them now!\n",
        "    </p>\n",
        "\n",
        "<p class=\"description\">...</p>\n",
        "</body>\n",
        "</html>\n",
        "\n",
        "'''\n",
        "\n",
        "from bs4 import BeautifulSoup\n",
        "\n",
        "soup = BeautifulSoup(html, 'html.parser')\n",
        "\n",
        "print(soup.prettify())"
      ],
      "metadata": {
        "id": "NOgIpth7hEez",
        "colab": {
          "base_uri": "https://localhost:8080/"
        },
        "outputId": "6e7f8d57-dd15-4dc4-8e76-b24c3e39b6f8"
      },
      "execution_count": null,
      "outputs": [
        {
          "output_type": "stream",
          "name": "stdout",
          "text": [
            "<!DOCTYPE html>\n",
            "<html lang=\"en\" xmlns=\"http://www.w3.org/1999/html\">\n",
            " <head>\n",
            "  <meta charset=\"utf-8\"/>\n",
            "  <meta content=\"width=device-width\" name=\"viewport\"/>\n",
            "  <title>\n",
            "   Site Title\n",
            "  </title>\n",
            " </head>\n",
            " <body>\n",
            "  page Title\n",
            "  <p class=\"description\">\n",
            "   We are Team Mammoth. Our top courses are:\n",
            "   <br/>\n",
            "   <br/>\n",
            "   <a class=\"course\" href=\"https://training.mammothinteractive.com/hello-coding\" id=\"helloCoding\">\n",
            "    Hello Coding\n",
            "   </a>\n",
            "   <br/>\n",
            "   <a href=\"https://training.mammothinteractive.com/wall-street-coder\">\n",
            "    Wall Street Coder\n",
            "   </a>\n",
            "   <br/>\n",
            "   <a class=\"course\" href=\"https://training.mammothinteractive.com/machine-learning-for-everybody\" id=\"machineLearningForEverybody\">\n",
            "    Machine learning for Everybody\n",
            "   </a>\n",
            "   <br/>\n",
            "   Get them now!\n",
            "  </p>\n",
            "  <p class=\"description\">\n",
            "   ...\n",
            "  </p>\n",
            " </body>\n",
            "</html>\n",
            "\n"
          ]
        }
      ]
    },
    {
      "cell_type": "code",
      "source": [
        "print(soup.title)"
      ],
      "metadata": {
        "id": "aQwqIeofhEcU",
        "colab": {
          "base_uri": "https://localhost:8080/"
        },
        "outputId": "af82a6c7-d4d1-4501-9a28-83318a260697"
      },
      "execution_count": null,
      "outputs": [
        {
          "output_type": "stream",
          "name": "stdout",
          "text": [
            "<title>Site Title</title>\n"
          ]
        }
      ]
    },
    {
      "cell_type": "code",
      "source": [
        "print(soup.title.name)"
      ],
      "metadata": {
        "id": "lQcWX2XsZ3u2",
        "colab": {
          "base_uri": "https://localhost:8080/"
        },
        "outputId": "a0cbd30f-3fae-4e22-bf5c-edbffece6a60"
      },
      "execution_count": null,
      "outputs": [
        {
          "output_type": "stream",
          "name": "stdout",
          "text": [
            "title\n"
          ]
        }
      ]
    },
    {
      "cell_type": "code",
      "source": [
        "print(soup.title.parent.name)"
      ],
      "metadata": {
        "id": "PUAyrerrZ3rB",
        "colab": {
          "base_uri": "https://localhost:8080/"
        },
        "outputId": "d2a81fcd-ae95-40a8-a6f7-7b713c1753c2"
      },
      "execution_count": null,
      "outputs": [
        {
          "output_type": "stream",
          "name": "stdout",
          "text": [
            "head\n"
          ]
        }
      ]
    },
    {
      "cell_type": "code",
      "source": [
        "print(soup.h1)"
      ],
      "metadata": {
        "id": "qD8kSntKZ3n2",
        "colab": {
          "base_uri": "https://localhost:8080/"
        },
        "outputId": "9680f490-e526-4ca0-85e4-c5bc87baccb0"
      },
      "execution_count": null,
      "outputs": [
        {
          "output_type": "stream",
          "name": "stdout",
          "text": [
            "None\n"
          ]
        }
      ]
    },
    {
      "cell_type": "code",
      "source": [
        "print(soup.h1['class'])"
      ],
      "metadata": {
        "id": "fmkLZ_s8Z3ks",
        "colab": {
          "base_uri": "https://localhost:8080/",
          "height": 171
        },
        "outputId": "1080ccd0-e88c-4dcb-95c0-67bf34cf1183"
      },
      "execution_count": null,
      "outputs": [
        {
          "output_type": "error",
          "ename": "TypeError",
          "evalue": "ignored",
          "traceback": [
            "\u001b[0;31m---------------------------------------------------------------------------\u001b[0m",
            "\u001b[0;31mTypeError\u001b[0m                                 Traceback (most recent call last)",
            "\u001b[0;32m<ipython-input-7-4d462541aea3>\u001b[0m in \u001b[0;36m<cell line: 1>\u001b[0;34m()\u001b[0m\n\u001b[0;32m----> 1\u001b[0;31m \u001b[0mprint\u001b[0m\u001b[0;34m(\u001b[0m\u001b[0msoup\u001b[0m\u001b[0;34m.\u001b[0m\u001b[0mh1\u001b[0m\u001b[0;34m[\u001b[0m\u001b[0;34m'class'\u001b[0m\u001b[0;34m]\u001b[0m\u001b[0;34m)\u001b[0m\u001b[0;34m\u001b[0m\u001b[0;34m\u001b[0m\u001b[0m\n\u001b[0m",
            "\u001b[0;31mTypeError\u001b[0m: 'NoneType' object is not subscriptable"
          ]
        }
      ]
    },
    {
      "cell_type": "code",
      "source": [
        "print(soup.p['class'])\n"
      ],
      "metadata": {
        "id": "H86_0QH6Z3hG",
        "colab": {
          "base_uri": "https://localhost:8080/"
        },
        "outputId": "f75ab9b4-0185-46e5-fe9c-606084e589f1"
      },
      "execution_count": null,
      "outputs": [
        {
          "output_type": "stream",
          "name": "stdout",
          "text": [
            "['description']\n"
          ]
        }
      ]
    },
    {
      "cell_type": "code",
      "source": [
        "print(soup.a)"
      ],
      "metadata": {
        "id": "xg8RFm4fZ3da",
        "colab": {
          "base_uri": "https://localhost:8080/"
        },
        "outputId": "19e79ba5-b6a8-453d-cc8a-f0d61b5b7382"
      },
      "execution_count": null,
      "outputs": [
        {
          "output_type": "stream",
          "name": "stdout",
          "text": [
            "<a class=\"course\" href=\"https://training.mammothinteractive.com/hello-coding\" id=\"helloCoding\">\n",
            "            Hello Coding\n",
            "        </a>\n"
          ]
        }
      ]
    },
    {
      "cell_type": "code",
      "source": [
        "print(soup.find_all('a'))"
      ],
      "metadata": {
        "id": "j6LuS7Y3Z3aS",
        "colab": {
          "base_uri": "https://localhost:8080/"
        },
        "outputId": "7347d16d-573a-4362-f7cc-b791b227d8c8"
      },
      "execution_count": null,
      "outputs": [
        {
          "output_type": "stream",
          "name": "stdout",
          "text": [
            "[<a class=\"course\" href=\"https://training.mammothinteractive.com/hello-coding\" id=\"helloCoding\">\n",
            "            Hello Coding\n",
            "        </a>, <a href=\"https://training.mammothinteractive.com/wall-street-coder\">\n",
            "            Wall Street Coder\n",
            "        </a>, <a class=\"course\" href=\"https://training.mammothinteractive.com/machine-learning-for-everybody\" id=\"machineLearningForEverybody\">\n",
            "            Machine learning for Everybody\n",
            "        </a>]\n"
          ]
        }
      ]
    },
    {
      "cell_type": "code",
      "source": [
        "print(soup.find(id=\"wallStreetCoder\"))"
      ],
      "metadata": {
        "id": "FxF7nKepZ3Va",
        "colab": {
          "base_uri": "https://localhost:8080/"
        },
        "outputId": "b2a3d592-08b4-4708-d34a-99c638ad01e7"
      },
      "execution_count": null,
      "outputs": [
        {
          "output_type": "stream",
          "name": "stdout",
          "text": [
            "None\n"
          ]
        }
      ]
    },
    {
      "cell_type": "code",
      "source": [
        "for link_tag in soup.find_all('a'):\n",
        "  \n",
        "  print(link_tag.get('href'))"
      ],
      "metadata": {
        "id": "ExJkcZQLZ3QW",
        "colab": {
          "base_uri": "https://localhost:8080/"
        },
        "outputId": "cf449520-2e7c-4f40-c97e-0dc76c4a4985"
      },
      "execution_count": null,
      "outputs": [
        {
          "output_type": "stream",
          "name": "stdout",
          "text": [
            "https://training.mammothinteractive.com/hello-coding\n",
            "https://training.mammothinteractive.com/wall-street-coder\n",
            "https://training.mammothinteractive.com/machine-learning-for-everybody\n"
          ]
        }
      ]
    },
    {
      "cell_type": "code",
      "source": [
        "for link_tag in soup.find_all('a'):\n",
        "  \n",
        "  print(link_tag['href'])"
      ],
      "metadata": {
        "id": "jY1jGZJSZ3K-",
        "colab": {
          "base_uri": "https://localhost:8080/"
        },
        "outputId": "04062caf-03dd-482e-b470-0ee6f0e14007"
      },
      "execution_count": null,
      "outputs": [
        {
          "output_type": "stream",
          "name": "stdout",
          "text": [
            "https://training.mammothinteractive.com/hello-coding\n",
            "https://training.mammothinteractive.com/wall-street-coder\n",
            "https://training.mammothinteractive.com/machine-learning-for-everybody\n"
          ]
        }
      ]
    },
    {
      "cell_type": "code",
      "source": [
        "print(soup.get_text())"
      ],
      "metadata": {
        "id": "mqHn3NB0Z3Hr",
        "colab": {
          "base_uri": "https://localhost:8080/"
        },
        "outputId": "2e527052-9316-408f-b325-9fe01eea1dc8"
      },
      "execution_count": null,
      "outputs": [
        {
          "output_type": "stream",
          "name": "stdout",
          "text": [
            "\n",
            "\n",
            "\n",
            "\n",
            "\n",
            "\n",
            "Site Title\n",
            "\n",
            "\n",
            "page Title\n",
            "\n",
            "        We are Team Mammoth. Our top courses are:\n",
            "        \n",
            "\n",
            "            Hello Coding\n",
            "        \n",
            "\n",
            "\n",
            "            Wall Street Coder\n",
            "        \n",
            "\n",
            "\n",
            "            Machine learning for Everybody\n",
            "        \n",
            "\n",
            "        Get them now!\n",
            "    \n",
            "...\n",
            "\n",
            "\n",
            "\n"
          ]
        }
      ]
    },
    {
      "cell_type": "code",
      "source": [
        "soup2 = BeautifulSoup('<b class=\"myBoldTag\">Bold</b>')\n",
        "\n",
        "tag = soup2.b\n",
        "\n",
        "print(tag)"
      ],
      "metadata": {
        "id": "2gP_pH21Z3D2",
        "colab": {
          "base_uri": "https://localhost:8080/"
        },
        "outputId": "1912b93f-cd43-4f26-8383-a5b0cb8cb223"
      },
      "execution_count": null,
      "outputs": [
        {
          "output_type": "stream",
          "name": "stdout",
          "text": [
            "<b class=\"myBoldTag\">Bold</b>\n"
          ]
        }
      ]
    },
    {
      "cell_type": "code",
      "source": [
        "print(soup2)"
      ],
      "metadata": {
        "id": "3hC72m-RZ2_7",
        "colab": {
          "base_uri": "https://localhost:8080/"
        },
        "outputId": "f12b6eff-dbd6-4bd8-ee45-94a01d56d6e6"
      },
      "execution_count": null,
      "outputs": [
        {
          "output_type": "stream",
          "name": "stdout",
          "text": [
            "<html><body><b class=\"myBoldTag\">Bold</b></body></html>\n"
          ]
        }
      ]
    },
    {
      "cell_type": "code",
      "source": [
        "print(tag.name)"
      ],
      "metadata": {
        "id": "dkc7LXHVZ28c",
        "colab": {
          "base_uri": "https://localhost:8080/"
        },
        "outputId": "57153427-60c5-4526-cf9e-f465737a8061"
      },
      "execution_count": null,
      "outputs": [
        {
          "output_type": "stream",
          "name": "stdout",
          "text": [
            "b\n"
          ]
        }
      ]
    },
    {
      "cell_type": "code",
      "source": [
        "print(tag.attrs)"
      ],
      "metadata": {
        "id": "FrRb0AddZ24V",
        "colab": {
          "base_uri": "https://localhost:8080/"
        },
        "outputId": "3ec4683e-89dc-4a06-cc46-d46df81d1ceb"
      },
      "execution_count": null,
      "outputs": [
        {
          "output_type": "stream",
          "name": "stdout",
          "text": [
            "{'class': ['myBoldTag']}\n"
          ]
        }
      ]
    },
    {
      "cell_type": "code",
      "source": [
        "print(soup.a.attrs)"
      ],
      "metadata": {
        "id": "R5zk5ahQZ2xL",
        "colab": {
          "base_uri": "https://localhost:8080/"
        },
        "outputId": "25a6e600-1848-4f34-bb9b-907e7de64228"
      },
      "execution_count": null,
      "outputs": [
        {
          "output_type": "stream",
          "name": "stdout",
          "text": [
            "{'href': 'https://training.mammothinteractive.com/hello-coding', 'class': ['course'], 'id': 'helloCoding'}\n"
          ]
        }
      ]
    },
    {
      "cell_type": "code",
      "source": [
        "print(soup.a['id'])"
      ],
      "metadata": {
        "id": "xlH3xgq4Z2tU",
        "colab": {
          "base_uri": "https://localhost:8080/"
        },
        "outputId": "1aa05889-7983-4ae9-ed67-63619175d638"
      },
      "execution_count": null,
      "outputs": [
        {
          "output_type": "stream",
          "name": "stdout",
          "text": [
            "helloCoding\n"
          ]
        }
      ]
    },
    {
      "cell_type": "code",
      "source": [
        "soup3 = BeautifulSoup('''\n",
        "<h2 class=\"headingClass\" id=\"myHeading2\">\n",
        "   My Heading\n",
        "</h2>\n",
        "''')\n",
        "\n",
        "tag = soup3.h2\n",
        "\n",
        "print(tag)"
      ],
      "metadata": {
        "id": "CD7_1JshZ2qD",
        "colab": {
          "base_uri": "https://localhost:8080/"
        },
        "outputId": "a910c583-4e83-4b54-f8f4-acfd99d6c9af"
      },
      "execution_count": null,
      "outputs": [
        {
          "output_type": "stream",
          "name": "stdout",
          "text": [
            "<h2 class=\"headingClass\" id=\"myHeading2\">\n",
            "   My Heading\n",
            "</h2>\n"
          ]
        }
      ]
    },
    {
      "cell_type": "code",
      "source": [
        "tag['id'] = \"newId\""
      ],
      "metadata": {
        "id": "dJqSTRegZ2kJ"
      },
      "execution_count": null,
      "outputs": []
    },
    {
      "cell_type": "code",
      "source": [
        "print(tag['id'])"
      ],
      "metadata": {
        "id": "7uYIdrjyZ2g7",
        "colab": {
          "base_uri": "https://localhost:8080/"
        },
        "outputId": "a7343f11-43cf-43d5-9246-ffc48bff68df"
      },
      "execution_count": null,
      "outputs": [
        {
          "output_type": "stream",
          "name": "stdout",
          "text": [
            "newId\n"
          ]
        }
      ]
    },
    {
      "cell_type": "code",
      "source": [
        "tag['class'] = 'myNewClass'\n",
        "\n",
        "print(tag)"
      ],
      "metadata": {
        "id": "1HbfHhxgZ2dG",
        "colab": {
          "base_uri": "https://localhost:8080/"
        },
        "outputId": "d67e687a-b3ce-4b37-f554-6a96395b8718"
      },
      "execution_count": null,
      "outputs": [
        {
          "output_type": "stream",
          "name": "stdout",
          "text": [
            "<h2 class=\"myNewClass\" id=\"newId\">\n",
            "   My Heading\n",
            "</h2>\n"
          ]
        }
      ]
    },
    {
      "cell_type": "code",
      "source": [
        "del tag['id']"
      ],
      "metadata": {
        "id": "PiIcnLHavsxv"
      },
      "execution_count": null,
      "outputs": []
    },
    {
      "cell_type": "code",
      "source": [
        "print(tag)"
      ],
      "metadata": {
        "id": "eMMgDcZcvsud",
        "colab": {
          "base_uri": "https://localhost:8080/"
        },
        "outputId": "d12bc2c4-afa4-4dd5-cd4d-5fada03a5e64"
      },
      "execution_count": null,
      "outputs": [
        {
          "output_type": "stream",
          "name": "stdout",
          "text": [
            "<h2 class=\"myNewClass\">\n",
            "   My Heading\n",
            "</h2>\n"
          ]
        }
      ]
    },
    {
      "cell_type": "code",
      "source": [
        "soup3 = BeautifulSoup('<p class=\"class1 class2\">Some Sample</p>')\n",
        "\n",
        "print(soup3.p)"
      ],
      "metadata": {
        "id": "y-EG9A5bvsr0",
        "colab": {
          "base_uri": "https://localhost:8080/"
        },
        "outputId": "a6dc5387-69f3-44e1-9fa5-bb262d408592"
      },
      "execution_count": null,
      "outputs": [
        {
          "output_type": "stream",
          "name": "stdout",
          "text": [
            "<p class=\"class1 class2\">Some Sample</p>\n"
          ]
        }
      ]
    },
    {
      "cell_type": "code",
      "source": [
        "tag = soup3.p\n",
        "\n",
        "tag['class']"
      ],
      "metadata": {
        "id": "iBOINE-XvspJ",
        "colab": {
          "base_uri": "https://localhost:8080/"
        },
        "outputId": "65997b5f-1104-47f7-d314-235bf6ff8316"
      },
      "execution_count": null,
      "outputs": [
        {
          "output_type": "execute_result",
          "data": {
            "text/plain": [
              "['class1', 'class2']"
            ]
          },
          "metadata": {},
          "execution_count": 29
        }
      ]
    },
    {
      "cell_type": "code",
      "source": [
        "soup4 = BeautifulSoup('<h3 id=\"myId id2\"> Sample Heading</h3>')\n",
        "\n",
        "print(soup4.h3['id'])"
      ],
      "metadata": {
        "id": "fBesoySCvsmk",
        "colab": {
          "base_uri": "https://localhost:8080/"
        },
        "outputId": "91db3ff4-1d2d-4014-fd2f-8c3723381e10"
      },
      "execution_count": null,
      "outputs": [
        {
          "output_type": "stream",
          "name": "stdout",
          "text": [
            "myId id2\n"
          ]
        }
      ]
    },
    {
      "cell_type": "code",
      "source": [
        "xml_soup = BeautifulSoup('<h4 class=\"class1 class2\">Text</h4', 'xml')#xml does not allow multi values\n",
        "\n",
        "print(xml_soup.h4['class'])"
      ],
      "metadata": {
        "id": "QpPeJUuavskH",
        "colab": {
          "base_uri": "https://localhost:8080/"
        },
        "outputId": "f040941b-19b4-43c0-8c6a-f8dac98b6df0"
      },
      "execution_count": null,
      "outputs": [
        {
          "output_type": "stream",
          "name": "stdout",
          "text": [
            "class1 class2\n"
          ]
        }
      ]
    },
    {
      "cell_type": "code",
      "source": [
        "print(soup4.h3.string)"
      ],
      "metadata": {
        "id": "GmBVWmonvshV",
        "colab": {
          "base_uri": "https://localhost:8080/"
        },
        "outputId": "fe0c45cf-af7c-448d-e80a-3224c5ab0f40"
      },
      "execution_count": null,
      "outputs": [
        {
          "output_type": "stream",
          "name": "stdout",
          "text": [
            " Sample Heading\n"
          ]
        }
      ]
    },
    {
      "cell_type": "code",
      "source": [
        "tag = soup.h3\n",
        "\n",
        "type(tag.string)"
      ],
      "metadata": {
        "id": "9Wv2MyuDvsfH"
      },
      "execution_count": null,
      "outputs": []
    },
    {
      "cell_type": "code",
      "source": [
        "wrapped = str(tag.string)\n",
        "\n",
        "print(type(wrapped))"
      ],
      "metadata": {
        "id": "VullOHIMvscf"
      },
      "execution_count": null,
      "outputs": []
    },
    {
      "cell_type": "code",
      "source": [
        "for string in soup4.strings:\n",
        "\n",
        "  print (repr(string))"
      ],
      "metadata": {
        "id": "FZQ2RQV9vsZx",
        "colab": {
          "base_uri": "https://localhost:8080/"
        },
        "outputId": "658568aa-3f8c-4691-fe08-5cc7cf46322e"
      },
      "execution_count": null,
      "outputs": [
        {
          "output_type": "stream",
          "name": "stdout",
          "text": [
            "' Sample Heading'\n"
          ]
        }
      ]
    },
    {
      "cell_type": "code",
      "source": [
        "for string in soup.strings:\n",
        "\n",
        "  print (repr(string))"
      ],
      "metadata": {
        "id": "H7WSvXWmvsXe",
        "colab": {
          "base_uri": "https://localhost:8080/"
        },
        "outputId": "0a3eee57-c424-460a-f4d7-93eb120e1f24"
      },
      "execution_count": null,
      "outputs": [
        {
          "output_type": "stream",
          "name": "stdout",
          "text": [
            "'\\n'\n",
            "'\\n'\n",
            "'\\n'\n",
            "'\\n'\n",
            "'\\n'\n",
            "'\\n'\n",
            "'Site Title'\n",
            "'\\n'\n",
            "'\\n'\n",
            "'\\n'\n",
            "'page Title'\n",
            "'\\n'\n",
            "'\\n        We are Team Mammoth. Our top courses are:\\n        '\n",
            "'\\n'\n",
            "'\\n            Hello Coding\\n        '\n",
            "'\\n'\n",
            "'\\n'\n",
            "'\\n            Wall Street Coder\\n        '\n",
            "'\\n'\n",
            "'\\n'\n",
            "'\\n            Machine learning for Everybody\\n        '\n",
            "'\\n'\n",
            "'\\n        Get them now!\\n    '\n",
            "'\\n'\n",
            "'...'\n",
            "'\\n'\n",
            "'\\n'\n",
            "'\\n'\n"
          ]
        }
      ]
    },
    {
      "cell_type": "code",
      "source": [
        "for string in soup.stripped_strings:\n",
        "\n",
        "  print (repr(string))"
      ],
      "metadata": {
        "id": "D9qfS5bevsUw",
        "colab": {
          "base_uri": "https://localhost:8080/"
        },
        "outputId": "4cee8fe1-4e49-4c78-a2fc-bdd665d9f3c2"
      },
      "execution_count": null,
      "outputs": [
        {
          "output_type": "stream",
          "name": "stdout",
          "text": [
            "'Site Title'\n",
            "'page Title'\n",
            "'We are Team Mammoth. Our top courses are:'\n",
            "'Hello Coding'\n",
            "'Wall Street Coder'\n",
            "'Machine learning for Everybody'\n",
            "'Get them now!'\n",
            "'...'\n"
          ]
        }
      ]
    },
    {
      "cell_type": "code",
      "source": [
        "comment = \"<p><! --Put in comment--></p>\"\n",
        "\n",
        "soup = BeautifulSoup(comment)\n",
        "\n",
        "soup.p.string"
      ],
      "metadata": {
        "id": "gd66-8Vlx8fO",
        "colab": {
          "base_uri": "https://localhost:8080/",
          "height": 36
        },
        "outputId": "358825cb-bb58-428f-baa0-d9a9479193c1"
      },
      "execution_count": null,
      "outputs": [
        {
          "output_type": "execute_result",
          "data": {
            "text/plain": [
              "'<! --Put in comment-->'"
            ],
            "application/vnd.google.colaboratory.intrinsic+json": {
              "type": "string"
            }
          },
          "metadata": {},
          "execution_count": 41
        }
      ]
    },
    {
      "cell_type": "code",
      "source": [
        "type(soup.p.string)"
      ],
      "metadata": {
        "id": "JWceImkUx8cT",
        "colab": {
          "base_uri": "https://localhost:8080/"
        },
        "outputId": "f227da94-51b2-485a-ccc4-d2dc058f1f38"
      },
      "execution_count": null,
      "outputs": [
        {
          "output_type": "execute_result",
          "data": {
            "text/plain": [
              "bs4.element.NavigableString"
            ]
          },
          "metadata": {},
          "execution_count": 42
        }
      ]
    },
    {
      "cell_type": "code",
      "source": [
        "print(soup.body)"
      ],
      "metadata": {
        "id": "IowQmTqPx8Zn",
        "colab": {
          "base_uri": "https://localhost:8080/"
        },
        "outputId": "3a1200fb-8d75-423f-ad52-c6a9fc673984"
      },
      "execution_count": null,
      "outputs": [
        {
          "output_type": "stream",
          "name": "stdout",
          "text": [
            "<body><p>&lt;! --Put in comment--&gt;</p></body>\n"
          ]
        }
      ]
    },
    {
      "cell_type": "code",
      "source": [
        "print(soup.body.contents)"
      ],
      "metadata": {
        "id": "R3_ycIsmx8W7",
        "colab": {
          "base_uri": "https://localhost:8080/"
        },
        "outputId": "1ef3193d-c6a0-47e1-f722-4a0d9d3f64b7"
      },
      "execution_count": null,
      "outputs": [
        {
          "output_type": "stream",
          "name": "stdout",
          "text": [
            "[<p>&lt;! --Put in comment--&gt;</p>]\n"
          ]
        }
      ]
    },
    {
      "cell_type": "code",
      "source": [
        "body = soup.body\n",
        "\n",
        "print(body.contents[1])"
      ],
      "metadata": {
        "id": "OzyjcdGHx8UY"
      },
      "execution_count": null,
      "outputs": []
    },
    {
      "cell_type": "code",
      "source": [
        "for child in body.children:\n",
        "\n",
        "  print(child)"
      ],
      "metadata": {
        "id": "2Yl4Ns7Ax8RG"
      },
      "execution_count": null,
      "outputs": []
    },
    {
      "cell_type": "code",
      "source": [
        "for parent in soup.find(id=\"wallStreetCoder\").parent:\n",
        "\n",
        "  print(parent)"
      ],
      "metadata": {
        "id": "BTTBAafjx8Oq"
      },
      "execution_count": null,
      "outputs": []
    },
    {
      "cell_type": "code",
      "source": [
        "for sibling in soup.find(id=\"wallStreetCoder\").next_sibling:\n",
        "\n",
        "  print(sibling)"
      ],
      "metadata": {
        "id": "_PrZ-LWux8MB"
      },
      "execution_count": null,
      "outputs": []
    },
    {
      "cell_type": "code",
      "source": [
        "soup.find(id=\"WallStreetCoder\").previous_sibling"
      ],
      "metadata": {
        "id": "w7qh6_v0x8JK"
      },
      "execution_count": null,
      "outputs": []
    },
    {
      "cell_type": "code",
      "source": [
        "soup.select('.description')"
      ],
      "metadata": {
        "id": "PosyJ1u0x8Gr"
      },
      "execution_count": null,
      "outputs": []
    },
    {
      "cell_type": "code",
      "source": [
        "soup.select('#helloCoding')"
      ],
      "metadata": {
        "id": "HmW3XE_0x8DR"
      },
      "execution_count": null,
      "outputs": []
    },
    {
      "cell_type": "code",
      "source": [
        "import re\n",
        "\n",
        "\n",
        "\n",
        "soup.find_all(re.compile('^b'))\n",
        "\n",
        "for tag in results:\n",
        "\n",
        "  print(tag.name)"
      ],
      "metadata": {
        "id": "N4Y0to1Rx8Aj"
      },
      "execution_count": null,
      "outputs": []
    },
    {
      "cell_type": "code",
      "source": [
        "print(soup.find_all(['a', 'p']))"
      ],
      "metadata": {
        "id": "gtz4U2x3x79d"
      },
      "execution_count": null,
      "outputs": []
    },
    {
      "cell_type": "code",
      "source": [
        "print(soup.find_all(['a', 'title']))"
      ],
      "metadata": {
        "id": "Z8DGLXfHx76p"
      },
      "execution_count": null,
      "outputs": []
    }
  ]
}