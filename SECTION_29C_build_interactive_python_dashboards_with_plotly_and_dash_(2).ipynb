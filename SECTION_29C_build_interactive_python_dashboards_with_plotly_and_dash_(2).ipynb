{
  "nbformat": 4,
  "nbformat_minor": 0,
  "metadata": {
    "colab": {
      "provenance": [],
      "authorship_tag": "ABX9TyOdwPNjV8kRUq2dyXQaFqDy",
      "include_colab_link": true
    },
    "kernelspec": {
      "name": "python3",
      "display_name": "Python 3"
    },
    "language_info": {
      "name": "python"
    }
  },
  "cells": [
    {
      "cell_type": "markdown",
      "metadata": {
        "id": "view-in-github",
        "colab_type": "text"
      },
      "source": [
        "<a href=\"https://colab.research.google.com/github/EstherAbayomi07/S_tar/blob/main1/SECTION_29C_build_interactive_python_dashboards_with_plotly_and_dash_(2).ipynb\" target=\"_parent\"><img src=\"https://colab.research.google.com/assets/colab-badge.svg\" alt=\"Open In Colab\"/></a>"
      ]
    },
    {
      "cell_type": "code",
      "execution_count": null,
      "metadata": {
        "id": "hC-0NoSHsroV"
      },
      "outputs": [],
      "source": []
    },
    {
      "cell_type": "code",
      "source": [
        "#SECTION29C should be in a brand new project"
      ],
      "metadata": {
        "id": "GrEsmQuyx7pZ"
      },
      "execution_count": 1,
      "outputs": []
    },
    {
      "cell_type": "code",
      "source": [
        "!pip install jupyter-dash\n",
        "\n",
        "from jupyter_dash import JupyterDash\n",
        "\n",
        "import dash_core_components as dcc\n",
        "\n",
        "import dash_html_components as html "
      ],
      "metadata": {
        "id": "IoSXYEpIx7kb",
        "colab": {
          "base_uri": "https://localhost:8080/",
          "height": 1000
        },
        "outputId": "a3bcdbd0-bd08-495c-ab26-bb1b8385f126"
      },
      "execution_count": 2,
      "outputs": [
        {
          "output_type": "stream",
          "name": "stdout",
          "text": [
            "Looking in indexes: https://pypi.org/simple, https://us-python.pkg.dev/colab-wheels/public/simple/\n",
            "Collecting jupyter-dash\n",
            "  Downloading jupyter_dash-0.4.2-py3-none-any.whl (23 kB)\n",
            "Requirement already satisfied: requests in /usr/local/lib/python3.9/dist-packages (from jupyter-dash) (2.27.1)\n",
            "Requirement already satisfied: ipykernel in /usr/local/lib/python3.9/dist-packages (from jupyter-dash) (5.5.6)\n",
            "Collecting ansi2html\n",
            "  Downloading ansi2html-1.8.0-py3-none-any.whl (16 kB)\n",
            "Requirement already satisfied: nest-asyncio in /usr/local/lib/python3.9/dist-packages (from jupyter-dash) (1.5.6)\n",
            "Requirement already satisfied: flask in /usr/local/lib/python3.9/dist-packages (from jupyter-dash) (2.2.3)\n",
            "Collecting retrying\n",
            "  Downloading retrying-1.3.4-py3-none-any.whl (11 kB)\n",
            "Collecting dash\n",
            "  Downloading dash-2.9.2-py3-none-any.whl (10.2 MB)\n",
            "\u001b[2K     \u001b[90m━━━━━━━━━━━━━━━━━━━━━━━━━━━━━━━━━━━━━━━━\u001b[0m \u001b[32m10.2/10.2 MB\u001b[0m \u001b[31m41.3 MB/s\u001b[0m eta \u001b[36m0:00:00\u001b[0m\n",
            "\u001b[?25hRequirement already satisfied: ipython in /usr/local/lib/python3.9/dist-packages (from jupyter-dash) (7.34.0)\n",
            "Collecting dash-html-components==2.0.0\n",
            "  Downloading dash_html_components-2.0.0-py3-none-any.whl (4.1 kB)\n",
            "Requirement already satisfied: plotly>=5.0.0 in /usr/local/lib/python3.9/dist-packages (from dash->jupyter-dash) (5.13.1)\n",
            "Collecting dash-core-components==2.0.0\n",
            "  Downloading dash_core_components-2.0.0-py3-none-any.whl (3.8 kB)\n",
            "Collecting dash-table==5.0.0\n",
            "  Downloading dash_table-5.0.0-py3-none-any.whl (3.9 kB)\n",
            "Requirement already satisfied: Jinja2>=3.0 in /usr/local/lib/python3.9/dist-packages (from flask->jupyter-dash) (3.1.2)\n",
            "Requirement already satisfied: click>=8.0 in /usr/local/lib/python3.9/dist-packages (from flask->jupyter-dash) (8.1.3)\n",
            "Requirement already satisfied: Werkzeug>=2.2.2 in /usr/local/lib/python3.9/dist-packages (from flask->jupyter-dash) (2.2.3)\n",
            "Requirement already satisfied: importlib-metadata>=3.6.0 in /usr/local/lib/python3.9/dist-packages (from flask->jupyter-dash) (6.1.0)\n",
            "Requirement already satisfied: itsdangerous>=2.0 in /usr/local/lib/python3.9/dist-packages (from flask->jupyter-dash) (2.1.2)\n",
            "Requirement already satisfied: tornado>=4.2 in /usr/local/lib/python3.9/dist-packages (from ipykernel->jupyter-dash) (6.2)\n",
            "Requirement already satisfied: ipython-genutils in /usr/local/lib/python3.9/dist-packages (from ipykernel->jupyter-dash) (0.2.0)\n",
            "Requirement already satisfied: jupyter-client in /usr/local/lib/python3.9/dist-packages (from ipykernel->jupyter-dash) (6.1.12)\n",
            "Requirement already satisfied: traitlets>=4.1.0 in /usr/local/lib/python3.9/dist-packages (from ipykernel->jupyter-dash) (5.7.1)\n",
            "Requirement already satisfied: matplotlib-inline in /usr/local/lib/python3.9/dist-packages (from ipython->jupyter-dash) (0.1.6)\n",
            "Requirement already satisfied: pickleshare in /usr/local/lib/python3.9/dist-packages (from ipython->jupyter-dash) (0.7.5)\n",
            "Requirement already satisfied: pygments in /usr/local/lib/python3.9/dist-packages (from ipython->jupyter-dash) (2.14.0)\n",
            "Requirement already satisfied: pexpect>4.3 in /usr/local/lib/python3.9/dist-packages (from ipython->jupyter-dash) (4.8.0)\n",
            "Requirement already satisfied: setuptools>=18.5 in /usr/local/lib/python3.9/dist-packages (from ipython->jupyter-dash) (67.6.1)\n",
            "Collecting jedi>=0.16\n",
            "  Downloading jedi-0.18.2-py2.py3-none-any.whl (1.6 MB)\n",
            "\u001b[2K     \u001b[90m━━━━━━━━━━━━━━━━━━━━━━━━━━━━━━━━━━━━━━━━\u001b[0m \u001b[32m1.6/1.6 MB\u001b[0m \u001b[31m41.5 MB/s\u001b[0m eta \u001b[36m0:00:00\u001b[0m\n",
            "\u001b[?25hRequirement already satisfied: decorator in /usr/local/lib/python3.9/dist-packages (from ipython->jupyter-dash) (4.4.2)\n",
            "Requirement already satisfied: prompt-toolkit!=3.0.0,!=3.0.1,<3.1.0,>=2.0.0 in /usr/local/lib/python3.9/dist-packages (from ipython->jupyter-dash) (3.0.38)\n",
            "Requirement already satisfied: backcall in /usr/local/lib/python3.9/dist-packages (from ipython->jupyter-dash) (0.2.0)\n",
            "Requirement already satisfied: certifi>=2017.4.17 in /usr/local/lib/python3.9/dist-packages (from requests->jupyter-dash) (2022.12.7)\n",
            "Requirement already satisfied: urllib3<1.27,>=1.21.1 in /usr/local/lib/python3.9/dist-packages (from requests->jupyter-dash) (1.26.15)\n",
            "Requirement already satisfied: idna<4,>=2.5 in /usr/local/lib/python3.9/dist-packages (from requests->jupyter-dash) (3.4)\n",
            "Requirement already satisfied: charset-normalizer~=2.0.0 in /usr/local/lib/python3.9/dist-packages (from requests->jupyter-dash) (2.0.12)\n",
            "Requirement already satisfied: six>=1.7.0 in /usr/local/lib/python3.9/dist-packages (from retrying->jupyter-dash) (1.16.0)\n",
            "Requirement already satisfied: zipp>=0.5 in /usr/local/lib/python3.9/dist-packages (from importlib-metadata>=3.6.0->flask->jupyter-dash) (3.15.0)\n",
            "Requirement already satisfied: parso<0.9.0,>=0.8.0 in /usr/local/lib/python3.9/dist-packages (from jedi>=0.16->ipython->jupyter-dash) (0.8.3)\n",
            "Requirement already satisfied: MarkupSafe>=2.0 in /usr/local/lib/python3.9/dist-packages (from Jinja2>=3.0->flask->jupyter-dash) (2.1.2)\n",
            "Requirement already satisfied: ptyprocess>=0.5 in /usr/local/lib/python3.9/dist-packages (from pexpect>4.3->ipython->jupyter-dash) (0.7.0)\n",
            "Requirement already satisfied: tenacity>=6.2.0 in /usr/local/lib/python3.9/dist-packages (from plotly>=5.0.0->dash->jupyter-dash) (8.2.2)\n",
            "Requirement already satisfied: wcwidth in /usr/local/lib/python3.9/dist-packages (from prompt-toolkit!=3.0.0,!=3.0.1,<3.1.0,>=2.0.0->ipython->jupyter-dash) (0.2.6)\n",
            "Requirement already satisfied: pyzmq>=13 in /usr/local/lib/python3.9/dist-packages (from jupyter-client->ipykernel->jupyter-dash) (23.2.1)\n",
            "Requirement already satisfied: python-dateutil>=2.1 in /usr/local/lib/python3.9/dist-packages (from jupyter-client->ipykernel->jupyter-dash) (2.8.2)\n",
            "Requirement already satisfied: jupyter-core>=4.6.0 in /usr/local/lib/python3.9/dist-packages (from jupyter-client->ipykernel->jupyter-dash) (5.3.0)\n",
            "Requirement already satisfied: platformdirs>=2.5 in /usr/local/lib/python3.9/dist-packages (from jupyter-core>=4.6.0->jupyter-client->ipykernel->jupyter-dash) (3.2.0)\n",
            "Installing collected packages: dash-table, dash-html-components, dash-core-components, retrying, jedi, ansi2html, dash, jupyter-dash\n",
            "Successfully installed ansi2html-1.8.0 dash-2.9.2 dash-core-components-2.0.0 dash-html-components-2.0.0 dash-table-5.0.0 jedi-0.18.2 jupyter-dash-0.4.2 retrying-1.3.4\n"
          ]
        },
        {
          "output_type": "stream",
          "name": "stderr",
          "text": [
            "<ipython-input-2-cf6b573db181>:5: UserWarning: \n",
            "The dash_core_components package is deprecated. Please replace\n",
            "`import dash_core_components as dcc` with `from dash import dcc`\n",
            "  import dash_core_components as dcc\n",
            "<ipython-input-2-cf6b573db181>:7: UserWarning: \n",
            "The dash_html_components package is deprecated. Please replace\n",
            "`import dash_html_components as html` with `from dash import html`\n",
            "  import dash_html_components as html\n"
          ]
        }
      ]
    },
    {
      "cell_type": "code",
      "source": [
        "import altair\n",
        "\n",
        "import io\n",
        "\n",
        "from vega_datasets import data\n",
        "\n",
        "from dash.dependencies import Input, Output\n",
        "\n",
        "cars = data.cars()\n",
        "\n",
        "print(cars)"
      ],
      "metadata": {
        "id": "jew6HJlFx7hp",
        "colab": {
          "base_uri": "https://localhost:8080/"
        },
        "outputId": "a47b628d-a72f-46c2-e948-71fb5067ff44"
      },
      "execution_count": 3,
      "outputs": [
        {
          "output_type": "stream",
          "name": "stdout",
          "text": [
            "                          Name  Miles_per_Gallon  Cylinders  Displacement  \\\n",
            "0    chevrolet chevelle malibu              18.0          8         307.0   \n",
            "1            buick skylark 320              15.0          8         350.0   \n",
            "2           plymouth satellite              18.0          8         318.0   \n",
            "3                amc rebel sst              16.0          8         304.0   \n",
            "4                  ford torino              17.0          8         302.0   \n",
            "..                         ...               ...        ...           ...   \n",
            "401            ford mustang gl              27.0          4         140.0   \n",
            "402                  vw pickup              44.0          4          97.0   \n",
            "403              dodge rampage              32.0          4         135.0   \n",
            "404                ford ranger              28.0          4         120.0   \n",
            "405                 chevy s-10              31.0          4         119.0   \n",
            "\n",
            "     Horsepower  Weight_in_lbs  Acceleration       Year  Origin  \n",
            "0         130.0           3504          12.0 1970-01-01     USA  \n",
            "1         165.0           3693          11.5 1970-01-01     USA  \n",
            "2         150.0           3436          11.0 1970-01-01     USA  \n",
            "3         150.0           3433          12.0 1970-01-01     USA  \n",
            "4         140.0           3449          10.5 1970-01-01     USA  \n",
            "..          ...            ...           ...        ...     ...  \n",
            "401        86.0           2790          15.6 1982-01-01     USA  \n",
            "402        52.0           2130          24.6 1982-01-01  Europe  \n",
            "403        84.0           2295          11.6 1982-01-01     USA  \n",
            "404        79.0           2625          18.6 1982-01-01     USA  \n",
            "405        82.0           2720          19.4 1982-01-01     USA  \n",
            "\n",
            "[406 rows x 9 columns]\n"
          ]
        }
      ]
    },
    {
      "cell_type": "code",
      "source": [
        "app = JupyterDash(__name__)\n",
        "\n",
        "COLUMNS = [\n",
        "            \"Miles_per_Gallon\",\n",
        "           \"Acceleration\",\n",
        "           \"Displacement\",\n",
        "           \"Cylinders\",\n",
        "           \"Weight_in_lbs\"\n",
        "\n",
        "]\n",
        "\n",
        "app.layout = html.Div([\n",
        "                        html.Div([\n",
        "                                  html.Div([\n",
        "                                            html.Label(\"x-axis\"),\n",
        "                                            dcc.Dropdown(\n",
        "                                                id=\"x-axis\",\n",
        "                                                options=[{\n",
        "                                                    \"label\": feature,\n",
        "                                                    \"value\": feature}\n",
        "                                                    for feature in COLUMNS\n",
        "                                                ],\n",
        "                                                value=\"Acceleration\"\n",
        "                                            )\n",
        "                                  ]),\n",
        "                                  html.Div([\n",
        "                                            html.Label(\"y-axis\"),\n",
        "                                            dcc.Dropdown(\n",
        "                                                id=\"y_axis\",\n",
        "                                                options=[{\n",
        "                                                    \"label\": feature,\n",
        "                                                    \"value\": feature\n",
        "                                                }\n",
        "                                                for feature in COLUMNS\n",
        "                                                ],\n",
        "                                                value=\"Acceleration\"\n",
        "\n",
        "                                            )\n",
        "                                  ])\n",
        "\n",
        "                        ]),\n",
        "                       html.Iframe(\n",
        "                           id=\"plot\",\n",
        "                           height=\"400\",\n",
        "                           width=\"700\",\n",
        "                           sandbox=\"allow-scripts\"\n",
        "                       )\n",
        "\n",
        "\n",
        "])\n",
        "\n",
        "@app.callback(\n",
        "    Output(\"plot\", \"srcDoc\"),\n",
        "    [\n",
        "      Input(\"x_axis\", \"value\"),\n",
        "      Input(\"y_axis\", \"value\") \n",
        "    ]\n",
        ")\n",
        "\n",
        "def make_figure(x_axis, y_axis):\n",
        "\n",
        "  brush = altair.selection_interval()\n",
        "\n",
        "  base = altair.Chart(cars)\n",
        "\n",
        "  scatter = (\n",
        "      base.mark_point()\n",
        "      .encode(x = x_axis,\n",
        "              y = y_axis,\n",
        "              color = \"Original:N\")\n",
        "      .properties(width  = 300,\n",
        "                  height = 300,\n",
        "                  selection = brush)\n",
        "  )\n",
        "\n",
        "  histogram = (\n",
        "      base.mark_bar()\n",
        "      .encode(x = altair.X(\"Horsepower:Q\",\n",
        "                           bin = True),\n",
        "              y = \"count()\",\n",
        "              color = \"Original:N\"\n",
        "              )\n",
        "      .transform_filter(brush.ref())\n",
        "  ).properties(height = 500)\n",
        "\n",
        "  chart = altair.hconcat(scatter, histogram)\n",
        "\n",
        "  cars_html = io.StringIO()\n",
        "\n",
        "  chart.save(cars_html, \"html\")\n",
        "\n",
        "  return cars_html.getvalue()\n",
        "\n",
        "app.run_server(mode=\"inline\")"
      ],
      "metadata": {
        "id": "kQ0C3a81x7eo",
        "colab": {
          "base_uri": "https://localhost:8080/",
          "height": 744
        },
        "outputId": "3f41992e-42f8-4712-cbfb-7eeee6d665e4"
      },
      "execution_count": 5,
      "outputs": [
        {
          "output_type": "stream",
          "name": "stdout",
          "text": [
            "Dash is running on http://127.0.0.1:8050/\n",
            "\n"
          ]
        },
        {
          "output_type": "stream",
          "name": "stderr",
          "text": [
            "INFO:dash.dash:Dash is running on http://127.0.0.1:8050/\n",
            "\n"
          ]
        },
        {
          "output_type": "display_data",
          "data": {
            "text/plain": [
              "<IPython.core.display.Javascript object>"
            ],
            "application/javascript": [
              "(async (port, path, width, height, cache, element) => {\n",
              "    if (!google.colab.kernel.accessAllowed && !cache) {\n",
              "      return;\n",
              "    }\n",
              "    element.appendChild(document.createTextNode(''));\n",
              "    const url = await google.colab.kernel.proxyPort(port, {cache});\n",
              "    const iframe = document.createElement('iframe');\n",
              "    iframe.src = new URL(path, url).toString();\n",
              "    iframe.height = height;\n",
              "    iframe.width = width;\n",
              "    iframe.style.border = 0;\n",
              "    iframe.allow = [\n",
              "        'accelerometer',\n",
              "        'autoplay',\n",
              "        'camera',\n",
              "        'clipboard-read',\n",
              "        'clipboard-write',\n",
              "        'gyroscope',\n",
              "        'magnetometer',\n",
              "        'microphone',\n",
              "        'serial',\n",
              "        'usb',\n",
              "        'xr-spatial-tracking',\n",
              "    ].join('; ');\n",
              "    element.appendChild(iframe);\n",
              "  })(8050, \"/\", \"100%\", 650, false, window.element)"
            ]
          },
          "metadata": {}
        }
      ]
    }
  ]
}